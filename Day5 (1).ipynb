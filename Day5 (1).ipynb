{
  "nbformat": 4,
  "nbformat_minor": 0,
  "metadata": {
    "colab": {
      "provenance": []
    },
    "kernelspec": {
      "name": "python3",
      "display_name": "Python 3"
    },
    "language_info": {
      "name": "python"
    }
  },
  "cells": [
    {
      "cell_type": "markdown",
      "source": [
        "#Searching"
      ],
      "metadata": {
        "id": "CFlJSzes_zfa"
      }
    },
    {
      "cell_type": "code",
      "execution_count": null,
      "metadata": {
        "colab": {
          "base_uri": "https://localhost:8080/"
        },
        "id": "HrSI1faQGOr-",
        "outputId": "5e51bf34-094a-4988-c61d-d34296a3372c"
      },
      "outputs": [
        {
          "output_type": "stream",
          "name": "stdout",
          "text": [
            "2\n",
            "found\n"
          ]
        }
      ],
      "source": [
        "#linear search\n",
        "arr=[1,4,6,3,2]\n",
        "k=int(input())\n",
        "flag=0\n",
        "for i in range(len(arr)):\n",
        "  if arr[i]==k:\n",
        "    flag=1\n",
        "    break\n",
        "if flag==0:\n",
        "  print(\"not found\")\n",
        "else:\n",
        "  print(\"found\")"
      ]
    },
    {
      "cell_type": "code",
      "source": [
        "#binary search\n",
        "arr=[1,2,3,4,5]\n",
        "\n",
        "arr.sort()\n",
        "k=int(input())\n",
        "i=0\n",
        "j=len(arr)-1\n",
        "while i<j:\n",
        "  mid=i+(j-i)//2\n",
        "  if arr[mid]==k:\n",
        "    print(\"found\")\n",
        "    break\n",
        "  elif arr[mid]<k:\n",
        "    i=mid+1\n",
        "  else:\n",
        "    j=mid-1\n",
        "else:\n",
        "  print(\"not found\")"
      ],
      "metadata": {
        "colab": {
          "base_uri": "https://localhost:8080/"
        },
        "id": "Mx2l_4BfNega",
        "outputId": "bf5e82cd-258f-471c-b819-2d2b332378b8"
      },
      "execution_count": null,
      "outputs": [
        {
          "output_type": "stream",
          "name": "stdout",
          "text": [
            "6\n",
            "not found\n"
          ]
        }
      ]
    },
    {
      "cell_type": "code",
      "source": [
        "#binary search using recursion\n",
        "def binarySearch(arr,k,i,j):\n",
        "  while i<j:\n",
        "    mid=i+(j-i)//2\n",
        "    if arr[mid]==k:\n",
        "      return \"found\"\n",
        "    elif arr[mid]<k:\n",
        "      return binarySearch(arr,k,mid+1,j)\n",
        "    else:\n",
        "      return binarySearch(arr,k,i,mid-1)\n",
        "  return \"Not found\"\n",
        "arr=[1,2,3,4,5]\n",
        "arr.sort()\n",
        "k=int(input())\n",
        "s=0\n",
        "e=len(arr)-1\n",
        "print(binarySearch(arr,k,s,e))\n"
      ],
      "metadata": {
        "colab": {
          "base_uri": "https://localhost:8080/"
        },
        "id": "xp5TH73cN-e0",
        "outputId": "d1306017-7e55-4e6e-840e-3ece2a9c372d"
      },
      "execution_count": null,
      "outputs": [
        {
          "output_type": "stream",
          "name": "stdout",
          "text": [
            "9\n",
            "Not found\n"
          ]
        }
      ]
    },
    {
      "cell_type": "code",
      "source": [
        "#linear search using recursion\n",
        "def linear(arr,i,k):\n",
        "  if i==len(arr):\n",
        "    return \"not found\"\n",
        "  if arr[i]==k:\n",
        "    return \"found\"\n",
        "  return linear(arr,i+1,k)\n",
        "arr=[1,2,3,4,5]\n",
        "k=5\n",
        "i=0\n",
        "print(linear(arr,i,k))"
      ],
      "metadata": {
        "colab": {
          "base_uri": "https://localhost:8080/"
        },
        "id": "I8FTe_gYOhRz",
        "outputId": "31d84ca8-6819-47f5-a9f8-9a46bfee68e3"
      },
      "execution_count": null,
      "outputs": [
        {
          "output_type": "stream",
          "name": "stdout",
          "text": [
            "found\n"
          ]
        }
      ]
    },
    {
      "cell_type": "code",
      "source": [
        "mat=[[-12,-8,-7,-4],[-2,3,5,6],[9,10,11,12]]  #closest negative number in sorted matrix\n",
        "r=len(mat)\n",
        "c=len(mat[0])\n",
        "s=0\n",
        "e=r*c-1\n",
        "key=0\n",
        "tmp=2147483647\n",
        "\n",
        "while s<=e:\n",
        "\n",
        "  mid=(s+e)//2\n",
        "  row=mid//c\n",
        "  col=mid%c\n",
        "\n",
        "  if mat[row][col]>=0:\n",
        "    e=mid-1\n",
        "    continue\n",
        "\n",
        "  else:\n",
        "    if abs(mat[row][col])<tmp: #comparison only we are using temp\n",
        "      key=mat[row][col]\n",
        "      tmp=abs(mat[row][col])\n",
        "    s=mid+1\n",
        "print(key)\n",
        "\n"
      ],
      "metadata": {
        "colab": {
          "base_uri": "https://localhost:8080/"
        },
        "id": "e6mAZmu2dHrS",
        "outputId": "613d452d-42e1-44a3-c83c-15eb2c26e144"
      },
      "execution_count": null,
      "outputs": [
        {
          "output_type": "stream",
          "name": "stdout",
          "text": [
            "-4\n"
          ]
        }
      ]
    },
    {
      "cell_type": "markdown",
      "source": [
        "#Sorting"
      ],
      "metadata": {
        "id": "jH955LRO_3nT"
      }
    },
    {
      "cell_type": "code",
      "source": [
        "#selection sort\n",
        "arr=[35,28,7,2,16]\n",
        "for i in range(len(arr)):\n",
        "  mini=i\n",
        "  for j in range(i+1,len(arr)):\n",
        "    if arr[j]<arr[mini]:\n",
        "      mini=j\n",
        "  arr[i],arr[mini]=arr[mini],arr[i]\n",
        "print(arr)"
      ],
      "metadata": {
        "colab": {
          "base_uri": "https://localhost:8080/"
        },
        "id": "OPbNgm0M_6z8",
        "outputId": "de53493a-4317-43d2-e0ce-9c171eb0e38d"
      },
      "execution_count": null,
      "outputs": [
        {
          "output_type": "stream",
          "name": "stdout",
          "text": [
            "[2, 7, 16, 28, 35]\n"
          ]
        }
      ]
    },
    {
      "cell_type": "code",
      "source": [
        "#selection sort using recursion\n",
        "def selectionSort(arr,n):\n",
        "  if n==1:\n",
        "    return arr\n",
        "  for i in range(n):\n",
        "    min=i\n",
        "    for j in range(i+1,n):\n",
        "      if arr[j]<arr[min]:\n",
        "        min=j\n",
        "    arr[i],arr[min]=arr[min],arr[i]\n",
        "  return selectionSort(arr,n-1)\n",
        "\n",
        "arr=[35,28,7,2,16]\n",
        "print(selectionSort(arr,len(arr)))"
      ],
      "metadata": {
        "colab": {
          "base_uri": "https://localhost:8080/"
        },
        "id": "LTaLslVFA5VD",
        "outputId": "58b2c88d-19de-4127-9a25-fd21a3cb4f71"
      },
      "execution_count": null,
      "outputs": [
        {
          "output_type": "stream",
          "name": "stdout",
          "text": [
            "[2, 7, 16, 28, 35]\n"
          ]
        }
      ]
    },
    {
      "cell_type": "code",
      "source": [
        "#bubble sort\n",
        "arr=[35,28,7,2,16]\n",
        "for i in range(len(arr)):\n",
        "  flag = True\n",
        "  for j in range(len(arr)-i-1):\n",
        "    if arr[j]>arr[j+1]:\n",
        "      arr[j],arr[j+1]=arr[j+1],arr[j]\n",
        "      flag = False\n",
        "  if flag == True:\n",
        "    break\n",
        "\n",
        "print(arr)"
      ],
      "metadata": {
        "colab": {
          "base_uri": "https://localhost:8080/"
        },
        "id": "JCh521T2CTXJ",
        "outputId": "c8192878-1dab-4c85-aaa0-e2b959cf7a93"
      },
      "execution_count": null,
      "outputs": [
        {
          "output_type": "stream",
          "name": "stdout",
          "text": [
            "[2, 7, 16, 28, 35]\n"
          ]
        }
      ]
    },
    {
      "cell_type": "code",
      "source": [
        "#insertion sort\n",
        "arr=[35,28,7,2,16]\n",
        "for i in range(1,len(arr)):\n",
        "  compare=arr[i]\n",
        "  pos=i-1\n",
        "  while pos>=0 and arr[pos]>compare:\n",
        "    arr[pos+1]=arr[pos]\n",
        "    pos-=1\n",
        "  arr[pos+1]=compare\n",
        "print(arr)"
      ],
      "metadata": {
        "colab": {
          "base_uri": "https://localhost:8080/"
        },
        "id": "U9Cwk5WSHGy2",
        "outputId": "19544e31-c75a-4010-b972-26a1d3efc5ce"
      },
      "execution_count": null,
      "outputs": [
        {
          "output_type": "stream",
          "name": "stdout",
          "text": [
            "[2, 7, 16, 28, 35]\n"
          ]
        }
      ]
    },
    {
      "cell_type": "markdown",
      "source": [
        "Description:\n",
        "Bunny is a girl who loves Shivanch restaurant menu. The menu consists of various dishes, each with a unique price. Bunny is interested in finding the minimum number of menu items needed to reach a total price of p.\n",
        "\n",
        "\n",
        "\n",
        "Here's a list of the current menus and their prices:\n",
        "\n",
        "\n",
        "\n",
        "           Menu\t                                                                          Price\n",
        "\n",
        "Eel flavored water\t                                                          1\n",
        "Deep-fried eel bones                                                      \t  2\n",
        "Clear soup made with eel livers\t                                      4\n",
        "Grilled eel livers served with grated radish                  \t  8\n",
        "Savory egg custard with eel\t                                         16\n",
        "Eel fried rice (S) \t                                                             32\n",
        "Eel fried rice (L)\t                                                             64\n",
        "Grilled eel wrapped in cooked egg\t                                128\n",
        "Eel curry rice\t                                                                256\n",
        "Grilled eel over rice\t                                                        512\n",
        "Deluxe grilled eel over rice\t                                           1024\n",
        "Eel full-course\t                                                               2048\n",
        "\n",
        "\n",
        "Bunny wants to order the least number of menu items that sum up to exactly p. Each menu item can be ordered multiple times if needed.\n",
        "\n",
        "Input Format:\n",
        "The first line contains an integer T, the number of test cases. Then T test cases follow. Each test case contains an integer p.\n",
        "\n",
        "Output Format:\n",
        "For each test case, print the minimum number of menus whose total price is exactly p.\n",
        "\n",
        "Constraints:\n",
        "1 ≤ T ≤ 5\n",
        "\n",
        "1 ≤ p ≤ 100000 (105)\n",
        "\n",
        "There exists combinations of menus whose total price is exactly p.\n",
        "\n",
        "Public Test Cases:\n",
        "Test Case 1:\n",
        "Input:\n",
        "4\n",
        "\n",
        "10\n",
        "\n",
        "256\n",
        "\n",
        "255\n",
        "\n",
        "4096\n",
        "\n",
        "Output:\n",
        "2\n",
        "\n",
        "1\n",
        "\n",
        "8\n",
        "\n",
        "2\n",
        "\n",
        "Explanation:\n",
        "In the first sample, examples of the menus whose total price is 10 are the following:\n",
        "\n",
        "1+1+1+1+1+1+1+1+1+1 = 10 (10 menus)\n",
        "\n",
        "1+1+1+1+1+1+1+1+2 = 10 (9 menus)\n",
        "\n",
        "2+2+2+2+2 = 10 (5 menus)\n",
        "\n",
        "2+4+4 = 10 (3 menus)\n",
        "\n",
        "2+8 = 10 (2 menus)\n",
        "\n",
        "Here the minimum number of menus is 2.\n",
        "\n",
        "\n",
        "\n",
        "In the last sample, the optimal way is 2048+2048=4096 (2 menus). Note that there is no menu whose price is 4096."
      ],
      "metadata": {
        "id": "8fqNClf0iPjb"
      }
    },
    {
      "cell_type": "code",
      "source": [
        "def minimum(p):\n",
        "    menu_prices=[2048, 1024, 512, 256, 128, 64, 32, 16, 8, 4, 2, 1]\n",
        "    num_menus=0\n",
        "    for price in menu_prices:\n",
        "        if p==0:\n",
        "            break\n",
        "        num_menus+=p//price\n",
        "        p=p%price\n",
        "    return num_menus\n",
        "\n",
        "T = int(input().strip())\n",
        "test_cases=[]\n",
        "for i in range(T):\n",
        "    p = int(input().strip())\n",
        "    test_cases.append(p)\n",
        "\n",
        "for p in test_cases:\n",
        "    result = minimum(p)\n",
        "    print(result)\n"
      ],
      "metadata": {
        "id": "JUMMm54yiX7f"
      },
      "execution_count": null,
      "outputs": []
    },
    {
      "cell_type": "markdown",
      "source": [
        "Description:\n",
        "An array containing the number x and n entries a1, a2,..., an exists.\n",
        "\n",
        "You can choose some i and change element ai to ai & x in a single operation, where & stands for the bitwise and operation.\n",
        "\n",
        "After performing various actions or perhaps none at all, you want the array to include at least two entries of the same type. To put it another way, ai = aj requires at least two different indices, i ≠ j. Ascertain whether the goal can be accomplished and, if so, the bare minimum of steps that need be taken.\n",
        "\n",
        "Input Format:\n",
        "The first line contains integers n and x, number of elements in the array and the number to and with.\n",
        "\n",
        "The second line contains n integers ai , the elements of the array.\n",
        "\n",
        "Output Format:\n",
        "Print a single integer denoting the minimal number of operations to do, or -1, if it is impossible.\n",
        "\n",
        "Constraints:\n",
        "1 ≤ i ≤ n\n",
        "\n",
        "2 ≤ n  ≤ 100 000\n",
        "\n",
        "1 ≤ x ≤ 100 000\n",
        "\n",
        "1 ≤ ai ≤ 100 000\n",
        "\n",
        "Public Test Cases:\n",
        "Test Case 1:\n",
        "Input:\n",
        "3 7\n",
        "\n",
        "1 2 3\n",
        "\n",
        "Output:\n",
        "-1"
      ],
      "metadata": {
        "id": "hs0N8_z8i4HO"
      }
    },
    {
      "cell_type": "code",
      "source": [],
      "metadata": {
        "id": "TWBmqLZai6Kh"
      },
      "execution_count": null,
      "outputs": []
    }
  ]
}