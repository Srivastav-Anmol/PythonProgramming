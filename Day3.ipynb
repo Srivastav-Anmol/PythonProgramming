{
  "nbformat": 4,
  "nbformat_minor": 0,
  "metadata": {
    "colab": {
      "provenance": []
    },
    "kernelspec": {
      "name": "python3",
      "display_name": "Python 3"
    },
    "language_info": {
      "name": "python"
    }
  },
  "cells": [
    {
      "cell_type": "code",
      "execution_count": null,
      "metadata": {
        "colab": {
          "base_uri": "https://localhost:8080/"
        },
        "id": "BHTTiawI50xh",
        "outputId": "674fca98-4405-4b69-f18f-138c8be4830f"
      },
      "outputs": [
        {
          "output_type": "stream",
          "name": "stdout",
          "text": [
            "['A', 'B', 'C', 'D', 'E', 'F', 'G', 'H', 'I', 'J', 'K', 'L', 'M', 'N', 'O', 'P', 'Q', 'R', 'S', 'T', 'U', 'V', 'W', 'X', 'Y', 'Z']\n"
          ]
        }
      ],
      "source": [
        "big=[chr(i) for i in range(65,91)]\n",
        "print(big)"
      ]
    },
    {
      "cell_type": "code",
      "source": [
        "small=[chr(i) for i in range(97,123)]\n",
        "print(small)"
      ],
      "metadata": {
        "colab": {
          "base_uri": "https://localhost:8080/"
        },
        "id": "j81VUYSh5_nt",
        "outputId": "f2010cd3-6352-4af4-bd21-fcb32c6f7b31"
      },
      "execution_count": null,
      "outputs": [
        {
          "output_type": "stream",
          "name": "stdout",
          "text": [
            "['a', 'b', 'c', 'd', 'e', 'f', 'g', 'h', 'i', 'j', 'k', 'l', 'm', 'n', 'o', 'p', 'q', 'r', 's', 't', 'u', 'v', 'w', 'x', 'y', 'z']\n"
          ]
        }
      ]
    },
    {
      "cell_type": "code",
      "source": [
        "mp=dict(zip(big,small))\n",
        "print(mp)"
      ],
      "metadata": {
        "colab": {
          "base_uri": "https://localhost:8080/"
        },
        "id": "XAeDbGD17Nph",
        "outputId": "8489524d-fa34-41a6-be17-2b7ae47de114"
      },
      "execution_count": null,
      "outputs": [
        {
          "output_type": "stream",
          "name": "stdout",
          "text": [
            "{'A': 'a', 'B': 'b', 'C': 'c', 'D': 'd', 'E': 'e', 'F': 'f', 'G': 'g', 'H': 'h', 'I': 'i', 'J': 'j', 'K': 'k', 'L': 'l', 'M': 'm', 'N': 'n', 'O': 'o', 'P': 'p', 'Q': 'q', 'R': 'r', 'S': 's', 'T': 't', 'U': 'u', 'V': 'v', 'W': 'w', 'X': 'x', 'Y': 'y', 'Z': 'z'}\n"
          ]
        }
      ]
    },
    {
      "cell_type": "code",
      "source": [
        "mp1={value: key for key, value in mp.items()}\n",
        "print(mp1)"
      ],
      "metadata": {
        "colab": {
          "base_uri": "https://localhost:8080/"
        },
        "id": "MCYqEoHn7ZiK",
        "outputId": "305082dd-2042-4364-96af-5e4e2ea7c95a"
      },
      "execution_count": null,
      "outputs": [
        {
          "output_type": "stream",
          "name": "stdout",
          "text": [
            "{'a': 'A', 'b': 'B', 'c': 'C', 'd': 'D', 'e': 'E', 'f': 'F', 'g': 'G', 'h': 'H', 'i': 'I', 'j': 'J', 'k': 'K', 'l': 'L', 'm': 'M', 'n': 'N', 'o': 'O', 'p': 'P', 'q': 'Q', 'r': 'R', 's': 'S', 't': 'T', 'u': 'U', 'v': 'V', 'w': 'W', 'x': 'X', 'y': 'Y', 'z': 'Z'}\n"
          ]
        }
      ]
    },
    {
      "cell_type": "code",
      "source": [
        "st='aBC' #using mapping\n",
        "ans=''\n",
        "n=len(st)\n",
        "for i in range(n):\n",
        "  for key,val in mp.items():\n",
        "    if st[i]==val:\n",
        "      ans+=key\n",
        "for i in range(n):\n",
        "  for key,val in mp1.items():\n",
        "    if st[i]==val:\n",
        "      ans+=key\n",
        "print(ans)"
      ],
      "metadata": {
        "colab": {
          "base_uri": "https://localhost:8080/"
        },
        "id": "YIZtjSwr76D1",
        "outputId": "68243ab9-aab5-45a8-d127-0c5400d00c1e"
      },
      "execution_count": null,
      "outputs": [
        {
          "output_type": "stream",
          "name": "stdout",
          "text": [
            "Abc\n"
          ]
        }
      ]
    },
    {
      "cell_type": "code",
      "source": [
        "st='aBC' #using ord function\n",
        "ans=[]\n",
        "for i in range(len(st)):\n",
        "  if 97<=ord(st[i])<=122:\n",
        "    ans.append(chr(ord(st[i])-32))\n",
        "  else:\n",
        "    ans.append(chr(ord(st[i])+32))\n",
        "print(''.join(ans))"
      ],
      "metadata": {
        "colab": {
          "base_uri": "https://localhost:8080/"
        },
        "id": "bIpzLyC58No1",
        "outputId": "0791dcfa-8b52-4bc5-e0c3-18c4004891b2"
      },
      "execution_count": null,
      "outputs": [
        {
          "output_type": "stream",
          "name": "stdout",
          "text": [
            "Abc\n"
          ]
        }
      ]
    },
    {
      "cell_type": "code",
      "source": [
        "t=\"Nayant\" #reverse\n",
        "t=list(t)\n",
        "i=0\n",
        "j=len(t)-1\n",
        "while i<=j:\n",
        "  t[i],t[j]=t[j],t[i]\n",
        "  i+=1\n",
        "  j-=1\n",
        "print(''.join(t))"
      ],
      "metadata": {
        "colab": {
          "base_uri": "https://localhost:8080/"
        },
        "id": "U7cuCmWB-oKI",
        "outputId": "cbeddcf5-704d-40e7-e980-3c8a9e4968ab"
      },
      "execution_count": null,
      "outputs": [
        {
          "output_type": "stream",
          "name": "stdout",
          "text": [
            "tnayaN\n"
          ]
        }
      ]
    },
    {
      "cell_type": "code",
      "source": [
        "st=\"this is a fish\" #count words\n",
        "st=st.split()\n",
        "print(len(st))"
      ],
      "metadata": {
        "colab": {
          "base_uri": "https://localhost:8080/"
        },
        "id": "gYgViWuBBr1H",
        "outputId": "928d6a06-a21b-47ab-8370-e4f1954f3125"
      },
      "execution_count": null,
      "outputs": [
        {
          "output_type": "stream",
          "name": "stdout",
          "text": [
            "4\n"
          ]
        }
      ]
    },
    {
      "cell_type": "code",
      "source": [
        "s=\"Python Java\"  #reverse characters in string\n",
        "n=len(s)\n",
        "i=0\n",
        "j=0\n",
        "res=[]\n",
        "while j<n:\n",
        "  while j<n and s[j]!=' ':\n",
        "    j+=1\n",
        "  for k in range(j-1,i-1,-1):\n",
        "    res.append(s[k])\n",
        "  if j<n-1:\n",
        "    res.append(' ')\n",
        "  j+=1\n",
        "  i=j\n",
        "print(''.join(res))"
      ],
      "metadata": {
        "colab": {
          "base_uri": "https://localhost:8080/"
        },
        "id": "Fkr4eqj-CkTQ",
        "outputId": "8d6b0d8c-03cc-48b2-804b-998e31159dd0"
      },
      "execution_count": null,
      "outputs": [
        {
          "output_type": "stream",
          "name": "stdout",
          "text": [
            "nohtyP avaJ\n"
          ]
        }
      ]
    },
    {
      "cell_type": "code",
      "source": [
        "t='#rer'\n",
        "print(t[0])"
      ],
      "metadata": {
        "colab": {
          "base_uri": "https://localhost:8080/"
        },
        "id": "KyYGumrgSdcX",
        "outputId": "5337a6a8-884d-4b89-f339-15c5e27e7fd1"
      },
      "execution_count": null,
      "outputs": [
        {
          "output_type": "stream",
          "name": "stdout",
          "text": [
            "#\n"
          ]
        }
      ]
    },
    {
      "cell_type": "code",
      "source": [
        "st=\"this is a fish\" #count sub-string\n",
        "sub='is'\n",
        "n=len(st)\n",
        "count=0\n",
        "for i in range(n-1):\n",
        "  if st[i:i+len(sub)]==sub:\n",
        "    count+=1\n",
        "print(count)\n"
      ],
      "metadata": {
        "colab": {
          "base_uri": "https://localhost:8080/"
        },
        "id": "HDJoO5ZQVs2l",
        "outputId": "c4d2a2fc-8dbf-43e0-9e8e-dcbc69899306"
      },
      "execution_count": null,
      "outputs": [
        {
          "output_type": "stream",
          "name": "stdout",
          "text": [
            "3\n"
          ]
        }
      ]
    },
    {
      "cell_type": "code",
      "source": [
        "st=''\n",
        "while True:\n",
        "  s=input()\n",
        "  if s=='0':\n",
        "    break\n",
        "  if s!='i':\n",
        "    st=st+s\n",
        "  else:\n",
        "    st=st[::-1]\n",
        "print(st)\n",
        "\n"
      ],
      "metadata": {
        "colab": {
          "base_uri": "https://localhost:8080/"
        },
        "id": "_huV_5EPtp24",
        "outputId": "782eedf4-ea01-47b2-ef85-ea5b88a71289"
      },
      "execution_count": null,
      "outputs": [
        {
          "output_type": "stream",
          "name": "stdout",
          "text": [
            "s\n",
            "t\n",
            "r\n",
            "i\n",
            "n\n",
            "g\n",
            "0\n",
            "rtsng\n"
          ]
        }
      ]
    },
    {
      "cell_type": "code",
      "source": [
        "st=\"hello world\"\n",
        "st=st.split(' ')\n",
        "print('el' in st[0])"
      ],
      "metadata": {
        "colab": {
          "base_uri": "https://localhost:8080/"
        },
        "id": "VAy4exCL_zdW",
        "outputId": "67e927af-127e-4406-dc28-4db6403baaf6"
      },
      "execution_count": null,
      "outputs": [
        {
          "output_type": "stream",
          "name": "stdout",
          "text": [
            "True\n"
          ]
        }
      ]
    },
    {
      "cell_type": "code",
      "source": [
        "text = \"hello world\"\n",
        "brokenLetters = \"ad\"\n",
        "text=text.split(' ')\n",
        "cnt=0\n",
        "brokenLetters=list(brokenLetters)\n",
        "for i in text:\n",
        "  print(i)\n",
        "  if i not in brokenLetters:\n",
        "    cnt+=1\n",
        "    print(i not in brokenLetters)\n",
        "print(cnt)"
      ],
      "metadata": {
        "colab": {
          "base_uri": "https://localhost:8080/"
        },
        "id": "pLhlhrJ_FuWS",
        "outputId": "0049c6dd-b20c-40d4-934a-82fde193eb67"
      },
      "execution_count": null,
      "outputs": [
        {
          "output_type": "stream",
          "name": "stdout",
          "text": [
            "hello\n",
            "True\n",
            "world\n",
            "True\n",
            "0\n"
          ]
        }
      ]
    },
    {
      "cell_type": "code",
      "source": [
        "word = \"abcdefd\"\n",
        "ch = \"d\"\n",
        "for i in range(len(word)):\n",
        "  if word[i]==ch:\n",
        "    j=i\n",
        "    break\n",
        "word=word[0:j+1][::-1]+word[j+1:]\n",
        "print(word)"
      ],
      "metadata": {
        "id": "0WoowrHFMLV_",
        "colab": {
          "base_uri": "https://localhost:8080/"
        },
        "outputId": "1d418d7d-967d-41d9-848e-86fec71738cc"
      },
      "execution_count": null,
      "outputs": [
        {
          "output_type": "stream",
          "name": "stdout",
          "text": [
            "dcbaefd\n"
          ]
        }
      ]
    },
    {
      "cell_type": "code",
      "source": [
        "st='Hello World'\n",
        "st=st.split()\n",
        "print(st)"
      ],
      "metadata": {
        "colab": {
          "base_uri": "https://localhost:8080/"
        },
        "id": "OWCMk4Fj9lMZ",
        "outputId": "5a2c6c18-2a26-4430-9955-96297724212c"
      },
      "execution_count": null,
      "outputs": [
        {
          "output_type": "stream",
          "name": "stdout",
          "text": [
            "['Hello', 'World']\n"
          ]
        }
      ]
    },
    {
      "cell_type": "code",
      "source": [
        "t=int(input())\n",
        "for i in range(t):\n",
        "    l=list(map(int,input().split()))\n",
        "print(l)"
      ],
      "metadata": {
        "colab": {
          "base_uri": "https://localhost:8080/"
        },
        "id": "cfdw4G9uEZk0",
        "outputId": "58b88062-42e1-4d2d-cb57-0575981266be"
      },
      "execution_count": null,
      "outputs": [
        {
          "output_type": "stream",
          "name": "stdout",
          "text": [
            "3\n",
            "1\n",
            "2\n",
            "4\n",
            "[4]\n"
          ]
        }
      ]
    },
    {
      "cell_type": "code",
      "source": [],
      "metadata": {
        "id": "wikEmFh2HnIj"
      },
      "execution_count": null,
      "outputs": []
    }
  ]
}