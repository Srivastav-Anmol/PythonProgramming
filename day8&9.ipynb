{
  "nbformat": 4,
  "nbformat_minor": 0,
  "metadata": {
    "colab": {
      "provenance": []
    },
    "kernelspec": {
      "name": "python3",
      "display_name": "Python 3"
    },
    "language_info": {
      "name": "python"
    }
  },
  "cells": [
    {
      "cell_type": "code",
      "execution_count": null,
      "metadata": {
        "colab": {
          "base_uri": "https://localhost:8080/"
        },
        "id": "DDTF8gjs4S5M",
        "outputId": "8dbb213f-9fe4-416d-98eb-c5578528f5b4"
      },
      "outputs": [
        {
          "output_type": "stream",
          "name": "stdout",
          "text": [
            "abc*+d*\n"
          ]
        }
      ],
      "source": [
        "# Infix to postfix using stack\n",
        "st = '(a+b*c)*d'\n",
        "stack = []\n",
        "ans = ''\n",
        "precedence = {'^': 3, '*': 2, '/': 2, '+': 1, '-': 1}\n",
        "for i in st:\n",
        "    if 'a'<=i<='z':\n",
        "        ans+=i\n",
        "    elif i=='(':\n",
        "        stack.append(i)\n",
        "    elif i==')':\n",
        "        while len(stack)!=0 and stack[-1] != '(':\n",
        "            ans += stack.pop()\n",
        "        stack.pop()\n",
        "    else:\n",
        "        while len(stack)!=0 and stack[-1]!='('and precedence[stack[-1]] >= precedence[i]:\n",
        "            ans += stack.pop()\n",
        "        stack.append(i)\n",
        "while stack:\n",
        "    ans += stack.pop()\n",
        "print(ans)"
      ]
    },
    {
      "cell_type": "code",
      "source": [
        "#postfix to infix\n",
        "st='abc*+'\n",
        "stack=[]\n",
        "ans=''\n",
        "op=['^','*','/','+','-']\n",
        "for i in st:\n",
        "  if i not in op:\n",
        "    stack.append(i)\n",
        "  else:\n",
        "      first=stack.pop()\n",
        "      second=stack.pop()\n",
        "      ans='('+second+i+first+')'\n",
        "      stack.append(ans)\n",
        "print(ans)\n"
      ],
      "metadata": {
        "colab": {
          "base_uri": "https://localhost:8080/"
        },
        "id": "UIPckIVB7ie8",
        "outputId": "c1db0a64-dd16-4de3-a1ec-ceefabfdec5e"
      },
      "execution_count": null,
      "outputs": [
        {
          "output_type": "stream",
          "name": "stdout",
          "text": [
            "(a+(b*c))\n"
          ]
        }
      ]
    },
    {
      "cell_type": "code",
      "source": [
        "#infix to prefix using stack\n",
        "st = '(a+b*c)*d'\n",
        "l=len(st)\n",
        "st=list(st[::-1])\n",
        "for i in range(l):\n",
        "  if st[i] == '(':\n",
        "    st[i] = ')'\n",
        "  elif st[i] == ')':\n",
        "    st[i] = '('\n",
        "st=''.join(st)\n",
        "stack = []\n",
        "ans = ''\n",
        "precedence = {'^': 3, '*': 2, '/': 2, '+': 1, '-': 1}\n",
        "for i in st:\n",
        "    if 'a'<=i<='z':\n",
        "        ans+=i\n",
        "    elif i=='(':\n",
        "        stack.append(i)\n",
        "    elif i==')':\n",
        "        while len(stack)!=0 and stack[-1] != '(':\n",
        "            ans += stack.pop()\n",
        "        stack.pop()\n",
        "    else:\n",
        "        while len(stack)!=0 and stack[-1]!='('and precedence[stack[-1]] >= precedence[i]:\n",
        "            ans += stack.pop()\n",
        "        stack.append(i)\n",
        "while stack:\n",
        "    ans += stack.pop()\n",
        "print(ans[::-1])\n",
        "\n"
      ],
      "metadata": {
        "colab": {
          "base_uri": "https://localhost:8080/"
        },
        "id": "8Ak_yh-sj5Lr",
        "outputId": "49338915-e055-4241-b21f-f7216d35fd83"
      },
      "execution_count": null,
      "outputs": [
        {
          "output_type": "stream",
          "name": "stdout",
          "text": [
            "*+a*bcd\n"
          ]
        }
      ]
    },
    {
      "cell_type": "code",
      "source": [
        "#prefix to infix using stack\n",
        "st='*+a*bcd'\n",
        "stack=[]\n",
        "ans=''\n",
        "op=['^','*','/','+','-']\n",
        "for i in range(len(st)-1,-1,-1):\n",
        "  if st[i] not in op:\n",
        "    stack.append(st[i])\n",
        "  else:\n",
        "      first=stack.pop()\n",
        "      second=stack.pop()\n",
        "      ans='('+second+st[i]+first+')'\n",
        "      stack.append(ans)\n",
        "print(ans)"
      ],
      "metadata": {
        "colab": {
          "base_uri": "https://localhost:8080/"
        },
        "id": "pRedILYQoFTq",
        "outputId": "6c1fb626-d14c-486e-ba5b-b3c7480fac3b"
      },
      "execution_count": null,
      "outputs": [
        {
          "output_type": "stream",
          "name": "stdout",
          "text": [
            "(d*((c*b)+a))\n"
          ]
        }
      ]
    },
    {
      "cell_type": "markdown",
      "source": [
        "#Implementation of Queue"
      ],
      "metadata": {
        "id": "t9rejp-1PDfL"
      }
    },
    {
      "cell_type": "markdown",
      "source": [],
      "metadata": {
        "id": "2QEkXJlwPDTJ"
      }
    },
    {
      "cell_type": "code",
      "source": [
        "class Queue:\n",
        "  def __init__(self):\n",
        "    self.queue=[]\n",
        "\n",
        "  def enqueue(self,data):\n",
        "    self.queue.append(data)\n",
        "\n",
        "  def dequeue(self):\n",
        "    if len(self.queue)==0:\n",
        "      print(\"Empty Queue\")\n",
        "    else:\n",
        "      print(self.queue.pop(0))\n",
        "\n",
        "  def peekElement(self):\n",
        "    if len(self.queue)==0:\n",
        "      print(\"Empty Queue\")\n",
        "    else:\n",
        "      print(self.queue[0])\n",
        "  def printQueue(self):\n",
        "    print(self.queue)\n",
        "\n",
        "queue=Queue()\n",
        "queue.enqueue(1)\n",
        "queue.enqueue(2)\n",
        "queue.enqueue(3)\n",
        "queue.enqueue(4)\n",
        "queue.enqueue(5)\n",
        "queue.printQueue()\n",
        "print(\"After popping-->\")\n",
        "queue.dequeue()\n",
        "queue.printQueue()\n",
        "print(\"peek element-->\")\n",
        "queue.peekElement()\n"
      ],
      "metadata": {
        "colab": {
          "base_uri": "https://localhost:8080/"
        },
        "id": "pVYMA3v8G0iI",
        "outputId": "866f0928-b0ca-44d2-ec0d-26034dc9e8e1"
      },
      "execution_count": null,
      "outputs": [
        {
          "output_type": "stream",
          "name": "stdout",
          "text": [
            "[1, 2, 3, 4, 5]\n",
            "After popping-->\n",
            "1\n",
            "[2, 3, 4, 5]\n",
            "peek element-->\n",
            "2\n"
          ]
        }
      ]
    },
    {
      "cell_type": "markdown",
      "source": [
        "#Implementation of Queue using Linked List"
      ],
      "metadata": {
        "id": "HBlp2SmYSqq-"
      }
    },
    {
      "cell_type": "code",
      "source": [
        "class node:\n",
        "  def __init__(self,data):\n",
        "    self.data=data\n",
        "    self.next=None\n",
        "\n",
        "class Queue:\n",
        "  def __init__(self):\n",
        "    self.head=None\n",
        "    self.tail=None\n",
        "  def enqueue(self,data): #adding from tail end\n",
        "    new=node(data)\n",
        "    if self.head==None:\n",
        "      self.head=new\n",
        "      self.tail=new\n",
        "    else:\n",
        "      self.tail.next=new\n",
        "      self.tail=new\n",
        "\n",
        "  def dequeue(self): #removing from front end\n",
        "    if self.head is None:\n",
        "      print(\"Empty Queue\")\n",
        "    else:\n",
        "      curr=self.head\n",
        "      self.head=self.head.next\n",
        "      print(curr.data)\n",
        "      curr.next=None\n",
        "\n",
        "  def peekElement(self):\n",
        "    if self.head is None:\n",
        "      print(\"Empty Queue\")\n",
        "    else:\n",
        "      print(self.head.data)\n",
        "\n",
        "  def printQ(self):\n",
        "    curr=self.head\n",
        "    while curr.next is not None:\n",
        "      print(curr.data,end='-')\n",
        "      curr=curr.next\n",
        "    print(curr.data)\n",
        "\n",
        "q=Queue()\n",
        "q.enqueue(1)\n",
        "q.enqueue(2)\n",
        "q.enqueue(3)\n",
        "q.enqueue(4)\n",
        "q.enqueue(5)\n",
        "print(\"Front View of Queue-->\")\n",
        "q.printQ()\n",
        "print(\"After popping-->\")\n",
        "q.dequeue()\n",
        "q.printQ()\n",
        "print(\"peek element-->\")\n",
        "q.peekElement()\n"
      ],
      "metadata": {
        "colab": {
          "base_uri": "https://localhost:8080/"
        },
        "id": "D0w9TmcfQEGI",
        "outputId": "ce28c868-2032-4cb1-811a-b9bc9c384e57"
      },
      "execution_count": null,
      "outputs": [
        {
          "output_type": "stream",
          "name": "stdout",
          "text": [
            "Front View of Queue-->\n",
            "1-2-3-4-5\n",
            "After popping-->\n",
            "1\n",
            "2-3-4-5\n",
            "peek element-->\n",
            "2\n"
          ]
        }
      ]
    },
    {
      "cell_type": "code",
      "source": [
        "#Creation of max_heap_tree from list\n",
        "arr=[5,8,9,7,3,4,12]\n",
        "l=len(arr)\n",
        "for i in range(l//2-1,-1,-1):\n",
        "  largest=i\n",
        "  left=2*i+1\n",
        "  right=2*i+2\n",
        "  if left<l and arr[left]>arr[largest]:\n",
        "    largest=left\n",
        "  if right<l and arr[right]>arr[largest]:\n",
        "    largest=right\n",
        "  if largest!=i:\n",
        "    arr[i],arr[largest]=arr[largest],arr[i]\n",
        "print(arr)\n",
        "\n"
      ],
      "metadata": {
        "colab": {
          "base_uri": "https://localhost:8080/"
        },
        "id": "wtEmpj7UUq2m",
        "outputId": "a4c880f5-b30c-42cb-d7f8-aea88184983d"
      },
      "execution_count": null,
      "outputs": [
        {
          "output_type": "stream",
          "name": "stdout",
          "text": [
            "[12, 8, 5, 7, 3, 4, 9]\n"
          ]
        }
      ]
    },
    {
      "cell_type": "code",
      "source": [
        "#heapify method using recursion\n",
        "def heapify(arr,n,i):\n",
        "  currentLargest=i\n",
        "  left=2*i+1\n",
        "  right=2*i+2\n",
        "  if left<n and arr[left]>arr[currentLargest]:\n",
        "    currentLargest=left\n",
        "  if right<n and arr[right]>arr[currentLargest]:\n",
        "    currentLargest=right\n",
        "  if currentLargest!=i:\n",
        "    arr[i],arr[currentLargest]=arr[currentLargest],arr[i]\n",
        "    heapify(arr,n,currentLargest)\n",
        "\n",
        "def insert(arr,data):\n",
        "  n=len(arr)\n",
        "  if n==0:\n",
        "    arr.append(data)\n",
        "  else:\n",
        "    arr.append(data)\n",
        "    for i in range(n//2-1,-1,-1):\n",
        "      heapify(arr,n,i)\n",
        "def deleteNode(arr,n):\n",
        "  arr.remove(n)\n",
        "  size=len(arr)\n",
        "  for i in range((size//2)-1,-1,-1):\n",
        "    heapify(arr,size,i)\n",
        "arr=[5,8,9,7,3,4,12]\n",
        "n=len(arr)\n",
        "for i in range(n//2-1,-1,-1):\n",
        "  heapify(arr,n,i)\n",
        "print(arr)"
      ],
      "metadata": {
        "colab": {
          "base_uri": "https://localhost:8080/"
        },
        "id": "1WDQtF1_wytn",
        "outputId": "212e831f-da2a-491e-f280-daaaddaa6e4e"
      },
      "execution_count": null,
      "outputs": [
        {
          "output_type": "stream",
          "name": "stdout",
          "text": [
            "[12, 8, 9, 7, 3, 4, 5]\n"
          ]
        }
      ]
    },
    {
      "cell_type": "code",
      "source": [
        "#heap sort\n",
        "def heapify(arr,n,i):\n",
        "  currentLargest=i\n",
        "  left=2*i+1\n",
        "  right=2*i+2\n",
        "  if left<n and arr[left]>arr[currentLargest]:\n",
        "    currentLargest=left\n",
        "  if right<n and arr[right]>arr[currentLargest]:\n",
        "    currentLargest=right\n",
        "  if currentLargest!=i:\n",
        "    arr[i],arr[currentLargest]=arr[currentLargest],arr[i]\n",
        "    heapify(arr,n,currentLargest)\n",
        "\n",
        "def sort(arr):\n",
        "  n=len(arr)\n",
        "  #tmp=[]\n",
        "  for i in range(n//2-1,-1,-1):\n",
        "    heapify(arr,n,i)\n",
        "  for i in range(n-1,-1,-1):\n",
        "    arr[i],arr[0]=arr[0],arr[i]\n",
        "    #tmp.append(arr.pop())\n",
        "    heapify(arr,i,0)\n",
        "  print(\"In ascending Order-->\",arr)\n",
        "  #print(\"In descending Order-->\",tmp)\n",
        "\n",
        "arr=[5,8,9,7,3,4,12]\n",
        "sort(arr)\n",
        "#max heap--> ascending order\n",
        "#min heap--> descending order"
      ],
      "metadata": {
        "colab": {
          "base_uri": "https://localhost:8080/"
        },
        "id": "XP2XlrUJ7PWR",
        "outputId": "d8234557-a76f-469b-f63e-e9a62cef51f3"
      },
      "execution_count": null,
      "outputs": [
        {
          "output_type": "stream",
          "name": "stdout",
          "text": [
            "In ascending Order--> [3, 4, 5, 7, 8, 9, 12]\n"
          ]
        }
      ]
    },
    {
      "cell_type": "code",
      "source": [
        "class node:\n",
        "  def __init__(self,data):\n",
        "    self.data=data\n",
        "    self.left=None\n",
        "    self.right=None\n",
        "def inorder(root):\n",
        "  if root is not None:\n",
        "    inorder(root.left)\n",
        "    print(root.data,end=' ')\n",
        "    inorder(root.right)\n",
        "\n",
        "def preorder(root):\n",
        "  if root is not None:\n",
        "    print(root.data,end=' ')\n",
        "    preorder(root.left)\n",
        "    preorder(root.right)\n",
        "\n",
        "def postorder(root):\n",
        "  if root is not None:\n",
        "    postorder(root.left)\n",
        "    postorder(root.right)\n",
        "    print(root.data,end=' ')\n",
        "\n",
        "def count(root):\n",
        "  if root is None:\n",
        "    return 0\n",
        "  else:\n",
        "    left=count(root.left)\n",
        "    right=count(root.right)\n",
        "    cnt=left+right+1\n",
        "    return cnt\n",
        "def height(root):\n",
        "  if root is None:\n",
        "    return 0\n",
        "  else:\n",
        "    left=height(root.left)\n",
        "    right=height(root.right)\n",
        "    return max(left,right)+1\n",
        "\n",
        "def maxi(root):\n",
        "  if root is None:\n",
        "    return 0\n",
        "  else:\n",
        "    left=max(root.data,maxi(root.left))\n",
        "    right=max(root.data,maxi(root.right))\n",
        "    return max(left,right)\n",
        "\n",
        "\n",
        "root=node(10)\n",
        "root.left=node(20)\n",
        "root.right=node(30)\n",
        "root.left.left=node(40)\n",
        "root.left.right=node(50)\n",
        "root.right.left=node(60)\n",
        "root.right.right=node(70)\n",
        "root.left.left.left=node(80)\n",
        "print(\"Left child of root node-->\")\n",
        "print(root.left.data)\n",
        "print(\"Inorder Traversal--->\")\n",
        "inorder(root)\n",
        "print()\n",
        "print(\"Postorder Traversal-->\")\n",
        "postorder(root)\n",
        "print()\n",
        "print(\"Preorder Traversal-->\")\n",
        "preorder(root)\n",
        "print()\n",
        "print(\"Number of Nodes in Tree-->\")\n",
        "count(root)\n",
        "print(\"Height of Tree-->\")\n",
        "height(root)\n",
        "print(\"Maximum Element-->\")\n",
        "maxi(root)"
      ],
      "metadata": {
        "colab": {
          "base_uri": "https://localhost:8080/"
        },
        "id": "HH9VuNsWbBsn",
        "outputId": "e5a6d8ef-1c10-4920-a7a8-8e60094364bb"
      },
      "execution_count": null,
      "outputs": [
        {
          "output_type": "stream",
          "name": "stdout",
          "text": [
            "Left child of root node-->\n",
            "20\n",
            "Inorder Traversal--->\n",
            "80 40 20 50 10 60 30 70 \n",
            "Postorder Traversal-->\n",
            "80 40 50 20 60 70 30 10 \n",
            "Preorder Traversal-->\n",
            "10 20 40 80 50 30 60 70 \n",
            "Number of Nodes in Tree-->\n",
            "Height of Tree-->\n",
            "Maximum Element-->\n"
          ]
        },
        {
          "output_type": "execute_result",
          "data": {
            "text/plain": [
              "80"
            ]
          },
          "metadata": {},
          "execution_count": 58
        }
      ]
    },
    {
      "cell_type": "code",
      "source": [
        "#Insertion in Binary Search Tree\n",
        "class tree:\n",
        "  def __init__(self,data):\n",
        "    self.data=data\n",
        "    self.left=None\n",
        "    self.right=None\n",
        "class BST:\n",
        "  def insert(self,root,val):\n",
        "    if root is None:\n",
        "      return tree(val)\n",
        "    else:\n",
        "      if val<root.data:\n",
        "        root.left=self.insert(root.left,val)\n",
        "      else:\n",
        "        root.right=self.insert(root.right,val)\n",
        "    return root\n",
        "\n",
        "  def inorder(self,root):\n",
        "    if root is not None:\n",
        "      self.inorder(root.left)\n",
        "      print(root.data,end=' ')\n",
        "      self.inorder(root.right)\n",
        "\n",
        "  def search(self,root,val):\n",
        "    if root is None:\n",
        "      print(\"Not Found\")\n",
        "    elif val==root.data:\n",
        "      print(\"Found\")\n",
        "    elif val<root.data:\n",
        "      self.search(root.left,val)\n",
        "    else:\n",
        "      self.search(root.right,val)\n",
        "\n",
        "  def maxiElement(self,root):\n",
        "    if root is None:\n",
        "      return 0\n",
        "    elif root.right is not None:\n",
        "      self.maxiElement(root.right)\n",
        "    else:\n",
        "      if root.right is None and root.left is None:\n",
        "        print(root.data)\n",
        "\n",
        "  def mini(self,root):\n",
        "    if root is None:\n",
        "      return 0\n",
        "    elif root.left is not None:\n",
        "      self.maxiElement(root.left)\n",
        "    else:\n",
        "      if root.left is None and root.right is None:\n",
        "        print(root.data)\n",
        "\n",
        "  def deleteNode(self,root,val):\n",
        "    if root is None:\n",
        "      return root\n",
        "    elif val<root.data:\n",
        "      root.left=self.deleteNode(root.left,val)\n",
        "    elif val>root.data:\n",
        "      root.right=self.deleteNode(root.right,val)\n",
        "    elif val==root.data:\n",
        "      if root.left is None and root.right is None:\n",
        "        root=None\n",
        "      else:\n",
        "        if root.left is None:\n",
        "          return root.right\n",
        "        elif root.right is None:\n",
        "          return root.left\n",
        "        root.data=self.mini(root.right)\n",
        "        root.right=self.deleteNode(root.right,root.data)\n",
        "      return root\n",
        "bst=BST()\n",
        "root=None\n",
        "root=bst.insert(root,10)\n",
        "root=bst.insert(root,20)\n",
        "root=bst.insert(root,9)\n",
        "root=bst.insert(root,15)\n",
        "root=bst.insert(root,25)\n",
        "root=bst.insert(root,12)\n",
        "bst.inorder(root)\n",
        "print()\n",
        "bst.search(root,90)\n",
        "bst.maxiElement(root)\n",
        "bst.deleteNode(root,12)\n",
        "bst.inorder(root)"
      ],
      "metadata": {
        "colab": {
          "base_uri": "https://localhost:8080/"
        },
        "id": "FPUF918yE20S",
        "outputId": "096134c0-8ce5-443d-89ed-4c44262a043e"
      },
      "execution_count": null,
      "outputs": [
        {
          "output_type": "stream",
          "name": "stdout",
          "text": [
            "9 10 12 15 20 25 \n",
            "Not Found\n",
            "25\n",
            "9 10 "
          ]
        }
      ]
    },
    {
      "cell_type": "code",
      "source": [
        "class tree:\n",
        "    def __init__(self,data):\n",
        "        self.data=data\n",
        "        self.left=None\n",
        "        self.right=None\n",
        "class BST:\n",
        "    def insert(self,root,val):\n",
        "        if root is None:\n",
        "            return tree(val)\n",
        "        else:\n",
        "            if val<root.data:\n",
        "                root.left=self.insert(root.left,val)\n",
        "            else:\n",
        "                root.right=self.insert(root.right,val)\n",
        "        return root\n",
        "\n",
        "    def height(self,root):\n",
        "        if root is None:\n",
        "            return 0\n",
        "        else:\n",
        "            left=self.height(root.left)\n",
        "            right=self.height(root.right)\n",
        "            return max(left,right)+1\n",
        "bst=BST()\n",
        "root=None\n",
        "t=int(input())\n",
        "for i in range(t):\n",
        "    n=int(input())\n",
        "    arr=list(map(int,input().strip().split()))\n",
        "    for i in arr:\n",
        "        root=bst.insert(root,i)\n",
        "    print(bst.height(root)-1)\n",
        "\n",
        "\n",
        "\n",
        "\n"
      ],
      "metadata": {
        "id": "1I3F6HkxKYzx",
        "outputId": "c475a9cc-dddd-4cdd-cd9a-a9b4501d8907",
        "colab": {
          "base_uri": "https://localhost:8080/"
        }
      },
      "execution_count": null,
      "outputs": [
        {
          "output_type": "stream",
          "name": "stdout",
          "text": [
            "1\n",
            "5\n",
            "1 2 3 4 5\n",
            "4\n"
          ]
        }
      ]
    },
    {
      "cell_type": "code",
      "source": [],
      "metadata": {
        "id": "dj1zQuGFgtu8"
      },
      "execution_count": null,
      "outputs": []
    }
  ]
}