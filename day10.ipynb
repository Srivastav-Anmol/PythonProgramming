{
  "nbformat": 4,
  "nbformat_minor": 0,
  "metadata": {
    "colab": {
      "provenance": []
    },
    "kernelspec": {
      "name": "python3",
      "display_name": "Python 3"
    },
    "language_info": {
      "name": "python"
    }
  },
  "cells": [
    {
      "cell_type": "markdown",
      "source": [
        "#AVL Tree"
      ],
      "metadata": {
        "id": "gCnt_fw0NiJK"
      }
    },
    {
      "cell_type": "code",
      "source": [
        "class Node:\n",
        "  def __init__(self,data):\n",
        "    self.data=data\n",
        "    self.left=None\n",
        "    self.right=None\n",
        "    self.height=1\n",
        "class AVLTree:\n",
        "  def height(self,node):\n",
        "    if not node:\n",
        "      return 0\n",
        "    return node.height\n",
        "\n",
        "  def balance(self,node):\n",
        "    if not node:\n",
        "      return 0\n",
        "    return self.height(node.left)-self.height(node.right)\n",
        "\n",
        "  def insert(self,root,value):\n",
        "    if not root:\n",
        "      return Node(value)\n",
        "    elif value<root.data:\n",
        "      root.left=self.insert(root.left,value)\n",
        "    else:\n",
        "      root.right=self.insert(root.right,value)\n",
        "\n",
        "    root.height=1+max(self.height(root.left),self.height(root.right))\n",
        "    balance=self.balance(root)\n",
        "\n",
        "    if balance>1 and value<root.left.data:\n",
        "      return self.right_rotate(root)\n",
        "    if balance<-1 and value>root.right.data:\n",
        "      return self.left_rotate(root)\n",
        "    if balance>1 and value>root.left.data:\n",
        "      root.left=self.left_rotate(root.left)\n",
        "      return self.right_rotate(root)\n",
        "    if balance<-1 and value<root.right.data:\n",
        "      root.right=self.right_rotate(root.right)\n",
        "      return self.left_rotate(root)\n",
        "    return root\n",
        "\n",
        "  def mini(self,root):\n",
        "    if root is not None:\n",
        "      left=min(root.data,self.mini(root.left))\n",
        "      right=min(root.data,self.mini(root.right))\n",
        "    else:\n",
        "      return float('inf')\n",
        "    return min(root.data,left,right)\n",
        "\n",
        "  def delete(self,root,value):\n",
        "    if not root:\n",
        "      return None\n",
        "    elif value<root.data:\n",
        "      root.left=self.delete(root.left,value)\n",
        "    elif value>root.data:\n",
        "      root.right=self.delete(root.right,value)\n",
        "    else:\n",
        "      if not root.left:\n",
        "        return root.right\n",
        "\n",
        "      elif not root.right:\n",
        "        return root.left\n",
        "      root.data = self.mini(root.right)\n",
        "      root.right = self.delete(root.right, root.data)\n",
        "      if not root:\n",
        "        return root\n",
        "      root.height=1+max(self.height(root.left),self.height(root.right))\n",
        "      balance=self.balance(root)\n",
        "\n",
        "      if balance>1 and self.balance(root.left)>=0:\n",
        "        return self.right_rotate(root)\n",
        "      if balance<-1 and self.balance(root.right)<=0:\n",
        "        return self.left_rotate(root)\n",
        "      if balance>1 and self.balance(root.left)>0:\n",
        "        root.left=self.left_rotate(root.left)\n",
        "        return self.right_rotate(root)\n",
        "      if balance<-1 and self.balance(root.right)<0:\n",
        "        root.right=self.right_rotate(root.right)\n",
        "        return self.left_rotate(root)\n",
        "      return root\n",
        "\n",
        "  def left_rotate(self,y):\n",
        "    x=y.right\n",
        "    t2=x.left\n",
        "    x.left=y\n",
        "    y.right=t2\n",
        "    x.height=max(self.height(x.left),self.height(x.right))+1\n",
        "    y.height=max(self.height(y.left),self.height(y.right))+1\n",
        "    return x\n",
        "\n",
        "  def right_rotate(self,x):\n",
        "    y=x.left\n",
        "    t2=y.right\n",
        "    y.right=x\n",
        "    x.left=t2\n",
        "    x.height=max(self.height(x.left),self.height(x.right))+1\n",
        "    y.height=max(self.height(y.left),self.height(y.right))+1\n",
        "    return y\n",
        "\n",
        "  def inorder(self,root):\n",
        "    if root is not None:\n",
        "      self.inorder(root.left)\n",
        "      print(root.data,end=' ')\n",
        "      self.inorder(root.right)\n",
        "\n",
        "avl=AVLTree()\n",
        "root=None\n",
        "root=avl.insert(root,10)\n",
        "root=avl.insert(root,20)\n",
        "root=avl.insert(root,30)\n",
        "root=avl.insert(root,40)\n",
        "root=avl.insert(root,50)\n",
        "print(\"AVL Tree-->\")\n",
        "avl.inorder(root)\n",
        "val=25\n",
        "print(\"\\nAfter inserting value-->\",val)\n",
        "root=avl.insert(root,val)\n",
        "avl.inorder(root)\n",
        "rem=20\n",
        "print(\"\\nDeleting a node-->\",rem)\n",
        "avl.delete(root,rem)\n",
        "avl.inorder(root)"
      ],
      "metadata": {
        "colab": {
          "base_uri": "https://localhost:8080/"
        },
        "id": "FL7OtD3NkaMg",
        "outputId": "67247d33-3b48-494d-ff10-1c75707402e7"
      },
      "execution_count": null,
      "outputs": [
        {
          "output_type": "stream",
          "name": "stdout",
          "text": [
            "AVL Tree-->\n",
            "10 20 30 40 50 \n",
            "After inserting value--> 25\n",
            "10 20 25 30 40 50 \n",
            "Deleting a node--> 20\n",
            "10 25 30 40 50 "
          ]
        }
      ]
    },
    {
      "cell_type": "markdown",
      "source": [
        "#Graphs"
      ],
      "metadata": {
        "id": "8SFwp7S0OYid"
      }
    },
    {
      "cell_type": "code",
      "source": [
        "def bfs(graph,start):\n",
        "  queue=[]\n",
        "  queue.append(start)\n",
        "  visited=set()\n",
        "  visited.add(start)\n",
        "  while len(queue)>0:\n",
        "    vertex=queue.pop(0)\n",
        "    print(vertex,end=' ')\n",
        "    for neighbour in graph[vertex]:\n",
        "      if neighbour not in visited:\n",
        "        queue.append(neighbour)\n",
        "        visited.add(neighbour)\n",
        "graph={\n",
        "    'A':['B','D','E'],\n",
        "    'B':['A','C','E'],\n",
        "    'C':['B','E','G'],\n",
        "    'D':['A','D'],\n",
        "    'E':['A','B','C','F','D'],\n",
        "    'F':['G','E'],\n",
        "    'G':['C','F']\n",
        "}\n",
        "bfs(graph,'A')"
      ],
      "metadata": {
        "colab": {
          "base_uri": "https://localhost:8080/"
        },
        "id": "Otp3FR-on3uN",
        "outputId": "f532c8cb-0a00-43f3-90b4-8511dbb2babb"
      },
      "execution_count": null,
      "outputs": [
        {
          "output_type": "stream",
          "name": "stdout",
          "text": [
            "A B D E C F G "
          ]
        }
      ]
    },
    {
      "cell_type": "code",
      "source": [
        "from collections import defaultdict\n",
        "class Graph:\n",
        "  def __init__(self):\n",
        "    self.graph=defaultdict(list)\n",
        "  def addEdge(self,u,v):\n",
        "    self.graph[u].append(v)\n",
        "  def dfsUtil(self,v,visited):\n",
        "    visited.add(v)\n",
        "    print(v,end=' ')\n",
        "    for neighbour in self.graph[v]:\n",
        "      if neighbour not in visited:\n",
        "        self.dfsUtil(neighbour,visited)\n",
        "  def dfs(self,v):\n",
        "    visited=set()\n",
        "    self.dfsUtil(v,visited)\n",
        "g=Graph()\n",
        "g.addEdge(1,2)\n",
        "g.addEdge(2,3)\n",
        "g.addEdge(3,4)\n",
        "g.addEdge(4,5)\n",
        "g.addEdge(5,6)\n",
        "g.addEdge(6,1)\n",
        "g.addEdge(5,7)\n",
        "g.addEdge(2,7)\n",
        "g.addEdge(4,7)\n",
        "g.dfs(1)\n"
      ],
      "metadata": {
        "colab": {
          "base_uri": "https://localhost:8080/"
        },
        "id": "ThpT3I7oUo4G",
        "outputId": "a43b39dc-5eec-48bf-b0fa-e8978c03d6bd"
      },
      "execution_count": null,
      "outputs": [
        {
          "output_type": "stream",
          "name": "stdout",
          "text": [
            "1 2 3 4 5 6 7 "
          ]
        }
      ]
    },
    {
      "cell_type": "markdown",
      "source": [
        "#Dynamic Programming"
      ],
      "metadata": {
        "id": "LKVl8aPNeUBF"
      }
    },
    {
      "cell_type": "code",
      "source": [
        "#fibonacci series using memoization\n",
        "def fibo(n,memo):\n",
        "  if n in memo:\n",
        "    return memo[n]\n",
        "  if n==0 or n==1:\n",
        "    return n\n",
        "  else:\n",
        "    memo[n]=fibo(n-1,memo)+fibo(n-2,memo)\n",
        "  return memo[n]\n",
        "n=4\n",
        "memo={}\n",
        "print(fibo(n,memo))"
      ],
      "metadata": {
        "id": "ojO1V-rQWiIF",
        "colab": {
          "base_uri": "https://localhost:8080/"
        },
        "outputId": "149410ec-61c8-4a64-b6ad-9ceb1235532b"
      },
      "execution_count": null,
      "outputs": [
        {
          "output_type": "stream",
          "name": "stdout",
          "text": [
            "3\n"
          ]
        }
      ]
    },
    {
      "cell_type": "code",
      "source": [
        "def fibo(n):\n",
        "  dp=[0]*(n+1)\n",
        "  dp[1]=1\n",
        "  for i in range(2,n+1):\n",
        "    dp[i]=dp[i-1]+dp[i-2]\n",
        "  return dp[n]\n",
        "n=4\n",
        "print(fibo(n))\n"
      ],
      "metadata": {
        "colab": {
          "base_uri": "https://localhost:8080/"
        },
        "id": "9odyabeydvfy",
        "outputId": "d4d1574b-0887-4810-d888-5fec21c7fc03"
      },
      "execution_count": null,
      "outputs": [
        {
          "output_type": "stream",
          "name": "stdout",
          "text": [
            "3\n"
          ]
        }
      ]
    },
    {
      "cell_type": "code",
      "source": [
        "#factorial program\n",
        "def fact(n,memo):\n",
        "  if n in memo:\n",
        "    return memo[n]\n",
        "  if n==0 or n==1:\n",
        "    return 1\n",
        "  else:\n",
        "    memo[n]=n*fact(n-1,memo)\n",
        "  return memo[n]\n",
        "n=int(input())\n",
        "memo={}\n",
        "print(fact(n,memo))\n"
      ],
      "metadata": {
        "colab": {
          "base_uri": "https://localhost:8080/"
        },
        "id": "tnUYAX27fF46",
        "outputId": "5e7b9115-4df9-4b1a-8aa9-c935b258d00b"
      },
      "execution_count": null,
      "outputs": [
        {
          "output_type": "stream",
          "name": "stdout",
          "text": [
            "0\n",
            "1\n"
          ]
        }
      ]
    },
    {
      "cell_type": "code",
      "source": [
        "def fact(n):\n",
        "  if n==0:\n",
        "    return 1\n",
        "  dp=[0]*(n+1)\n",
        "  dp[1]=1\n",
        "  for i in range(2,n+1):\n",
        "    dp[i]=dp[i-1]*i\n",
        "  return dp[n]\n",
        "n=int(input())\n",
        "print(fact(n))"
      ],
      "metadata": {
        "colab": {
          "base_uri": "https://localhost:8080/"
        },
        "id": "H4nKDQ_fjVpZ",
        "outputId": "20546320-1a22-4220-8799-d5f6829f6551"
      },
      "execution_count": null,
      "outputs": [
        {
          "output_type": "stream",
          "name": "stdout",
          "text": [
            "5\n",
            "120\n"
          ]
        }
      ]
    },
    {
      "cell_type": "code",
      "source": [
        "def stair(n):\n",
        "  if n==0 or n==1:\n",
        "    return 1\n",
        "  dp=[1]*(n+1)\n",
        "  dp[1]=1\n",
        "  for i in range(2,n+1):\n",
        "    dp[i]=dp[i-1]+dp[i-2]\n",
        "  return dp[n]\n",
        "n=int(input())\n",
        "print(stair(n))\n"
      ],
      "metadata": {
        "colab": {
          "base_uri": "https://localhost:8080/"
        },
        "id": "1LFPAsFUj-SG",
        "outputId": "f964469e-aaed-4246-a6cd-79c67871b8fb"
      },
      "execution_count": null,
      "outputs": [
        {
          "output_type": "stream",
          "name": "stdout",
          "text": [
            "4\n",
            "5\n"
          ]
        }
      ]
    },
    {
      "cell_type": "code",
      "source": [],
      "metadata": {
        "id": "ZaT4QyGQm7QS"
      },
      "execution_count": null,
      "outputs": []
    }
  ]
}