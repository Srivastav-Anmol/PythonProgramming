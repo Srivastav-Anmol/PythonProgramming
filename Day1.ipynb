{
  "nbformat": 4,
  "nbformat_minor": 0,
  "metadata": {
    "colab": {
      "provenance": []
    },
    "kernelspec": {
      "name": "python3",
      "display_name": "Python 3"
    },
    "language_info": {
      "name": "python"
    }
  },
  "cells": [
    {
      "cell_type": "code",
      "execution_count": null,
      "metadata": {
        "colab": {
          "base_uri": "https://localhost:8080/"
        },
        "id": "010itYle8u-d",
        "outputId": "0f01b088-2673-410a-f272-73d24be8c064"
      },
      "outputs": [
        {
          "output_type": "stream",
          "name": "stdout",
          "text": [
            "1C\n"
          ]
        }
      ],
      "source": [
        "# decimal to hexadecimal\n",
        "mp={0:'0',1:'1',2:'2',3:'3',4:'4',5:'5',6:'6',7:'7',8:'8',9:'9',10:'A',11:'B',12:'C',13:'D',14:'E',15:'F'}\n",
        "n=28\n",
        "ans=''\n",
        "while n>0:\n",
        "    rem=n%16\n",
        "    n=n//16\n",
        "    for key,val in mp.items():\n",
        "        if key==rem:\n",
        "            ans=val+ans\n",
        "print(ans)"
      ]
    },
    {
      "cell_type": "code",
      "source": [
        "#decimal to binary\n",
        "n=8\n",
        "ans=0\n",
        "i=1\n",
        "while n>0:\n",
        "    dig=n%2 #8 for octal\n",
        "    n=n//2\n",
        "    ans=dig*i+ans\n",
        "    i*=10\n",
        "print(ans)\n"
      ],
      "metadata": {
        "colab": {
          "base_uri": "https://localhost:8080/"
        },
        "id": "tC97R9fK8yY4",
        "outputId": "4fdd0839-bd69-4ed0-bb38-8e5efc3e958b"
      },
      "execution_count": null,
      "outputs": [
        {
          "output_type": "stream",
          "name": "stdout",
          "text": [
            "1000\n"
          ]
        }
      ]
    },
    {
      "cell_type": "code",
      "source": [
        "#binary to decimal\n",
        "n=110\n",
        "ans=0\n",
        "i=0\n",
        "while n>0:\n",
        "    rem=n%10\n",
        "    if rem==1:\n",
        "        ans+=(2**i)\n",
        "    i+=1\n",
        "    n=n//10\n",
        "print(ans)\n"
      ],
      "metadata": {
        "colab": {
          "base_uri": "https://localhost:8080/"
        },
        "id": "x9aQMTwD9Dvl",
        "outputId": "b67f41ef-9292-48c7-8c0d-a5cce3c37bdf"
      },
      "execution_count": null,
      "outputs": [
        {
          "output_type": "stream",
          "name": "stdout",
          "text": [
            "6\n"
          ]
        }
      ]
    },
    {
      "cell_type": "code",
      "source": [
        "#octal to decimal\n",
        "n=47\n",
        "ans=0\n",
        "i=0\n",
        "while n>0:\n",
        "    rem=n%10\n",
        "    ans+=rem*(8**i)\n",
        "    i+=1\n",
        "    n=n//10\n",
        "print(ans)"
      ],
      "metadata": {
        "colab": {
          "base_uri": "https://localhost:8080/"
        },
        "id": "1t2eqSNm9Qql",
        "outputId": "00e6a993-a15b-4370-e582-568f052ea2ff"
      },
      "execution_count": null,
      "outputs": [
        {
          "output_type": "stream",
          "name": "stdout",
          "text": [
            "39\n"
          ]
        }
      ]
    },
    {
      "cell_type": "code",
      "source": [],
      "metadata": {
        "id": "l40X4J3h9xI2"
      },
      "execution_count": null,
      "outputs": []
    }
  ]
}