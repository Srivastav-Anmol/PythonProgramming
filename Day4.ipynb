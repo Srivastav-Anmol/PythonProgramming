{
  "nbformat": 4,
  "nbformat_minor": 0,
  "metadata": {
    "colab": {
      "provenance": []
    },
    "kernelspec": {
      "name": "python3",
      "display_name": "Python 3"
    },
    "language_info": {
      "name": "python"
    }
  },
  "cells": [
    {
      "cell_type": "code",
      "execution_count": null,
      "metadata": {
        "colab": {
          "base_uri": "https://localhost:8080/"
        },
        "id": "u4-0WYGX9sSv",
        "outputId": "93f4ef73-985e-40a2-e049-7184ffafd228"
      },
      "outputs": [
        {
          "output_type": "stream",
          "name": "stdout",
          "text": [
            "6\n"
          ]
        }
      ],
      "source": [
        "def func(a,b):\n",
        "  for i in range(a,b+1):\n",
        "    ans=0\n",
        "    for j in range(1,i//2+1):\n",
        "      if i%j==0:\n",
        "        ans+=j\n",
        "    if ans==i:\n",
        "      return i\n",
        "print(func(1,100))"
      ]
    },
    {
      "cell_type": "code",
      "source": [
        "def func(n): #ugly numbers\n",
        "  while n%2==0:\n",
        "    n=n//2\n",
        "  while n%3==0:\n",
        "    n=n//3\n",
        "  while n%5==0:\n",
        "    n=n//5\n",
        "  if n==1:\n",
        "    return True\n",
        "  else:\n",
        "    return False\n",
        "print(func(6))\n",
        "print(func(1))\n"
      ],
      "metadata": {
        "colab": {
          "base_uri": "https://localhost:8080/"
        },
        "id": "17PD0ILuC8r_",
        "outputId": "8671acbe-657e-4045-ac74-8cc79f90c644"
      },
      "execution_count": null,
      "outputs": [
        {
          "output_type": "stream",
          "name": "stdout",
          "text": [
            "True\n",
            "True\n"
          ]
        }
      ]
    },
    {
      "cell_type": "code",
      "source": [
        "def fact(n):   #Armstrong number\n",
        "  pro=1\n",
        "  for i in range(1,n+1):\n",
        "    pro=pro*i\n",
        "  return pro\n",
        "x=int(input())\n",
        "tmp=x\n",
        "ans=0\n",
        "while x>0:\n",
        "  rem=x%10\n",
        "  ans=fact(rem)+ans\n",
        "  x=x//10\n",
        "if ans==tmp:\n",
        "  print(\"Yes, Armstrong Number\")\n",
        "else:\n",
        "  print(\"Not, Armstrong Numbers\")\n"
      ],
      "metadata": {
        "colab": {
          "base_uri": "https://localhost:8080/"
        },
        "id": "Nv37qxYbE7nA",
        "outputId": "6beebeaa-d2f0-41c9-c4e4-538cfc0e51cb"
      },
      "execution_count": null,
      "outputs": [
        {
          "output_type": "stream",
          "name": "stdout",
          "text": [
            "145\n",
            "Yes, Armstrong Number\n"
          ]
        }
      ]
    },
    {
      "cell_type": "code",
      "source": [
        "def special(n):\n",
        "  sum=0\n",
        "  for i in range(1,n//2+1):\n",
        "    if n%i==0:\n",
        "      sum+=i\n",
        "  if sum==n:\n",
        "    return True\n",
        "  else:\n",
        "    return False\n",
        "print(special(6))"
      ],
      "metadata": {
        "colab": {
          "base_uri": "https://localhost:8080/"
        },
        "id": "U3YcCaojMSkV",
        "outputId": "d864ed3a-363c-447b-ea9c-f9202c83b47b"
      },
      "execution_count": null,
      "outputs": [
        {
          "output_type": "stream",
          "name": "stdout",
          "text": [
            "True\n"
          ]
        }
      ]
    },
    {
      "cell_type": "code",
      "source": [
        "def fact(n):  #factorial of a number\n",
        "  if n==0:\n",
        "    return 1\n",
        "  if n==1:\n",
        "    return 1\n",
        "  else:\n",
        "    return n*fact(n-1)\n",
        "print(fact(5))\n",
        "print(fact(6))"
      ],
      "metadata": {
        "colab": {
          "base_uri": "https://localhost:8080/"
        },
        "id": "WtFGTY6TPeB_",
        "outputId": "c0b63057-2179-4820-c0bb-04be2154bd1d"
      },
      "execution_count": null,
      "outputs": [
        {
          "output_type": "stream",
          "name": "stdout",
          "text": [
            "120\n",
            "720\n"
          ]
        }
      ]
    },
    {
      "cell_type": "code",
      "source": [
        "def fibo(n):\n",
        "  if n==0:\n",
        "    return 0\n",
        "  if n==1:\n",
        "    return 1\n",
        "  else:\n",
        "    return fibo(n-1)+fibo(n-2)\n",
        "for i in range(0,10):\n",
        "  print(fibo(i),end=' ')"
      ],
      "metadata": {
        "colab": {
          "base_uri": "https://localhost:8080/"
        },
        "id": "FPbLckuQVugk",
        "outputId": "6df8c049-e6a1-40dc-a50f-adc9ba119f1f"
      },
      "execution_count": null,
      "outputs": [
        {
          "output_type": "stream",
          "name": "stdout",
          "text": [
            "0 1 1 2 3 5 8 13 21 34 "
          ]
        }
      ]
    },
    {
      "cell_type": "code",
      "source": [
        "def stair(n):\n",
        "  if n<0:\n",
        "    return 0\n",
        "  elif n==0:\n",
        "    return 1\n",
        "  else:\n",
        "    return stair(n-1)+stair(n-2)+stair(n-3)\n",
        "print(stair(10))"
      ],
      "metadata": {
        "colab": {
          "base_uri": "https://localhost:8080/"
        },
        "id": "NsSm0h1Bfy2t",
        "outputId": "dee29d36-7803-4ff7-f09c-d5b8a90a0d53"
      },
      "execution_count": null,
      "outputs": [
        {
          "output_type": "stream",
          "name": "stdout",
          "text": [
            "274\n"
          ]
        }
      ]
    },
    {
      "cell_type": "code",
      "source": [
        "n=5\n",
        "arr=[i for i in range(1,n+1)]\n",
        "print(arr)\n",
        "k=2"
      ],
      "metadata": {
        "colab": {
          "base_uri": "https://localhost:8080/"
        },
        "id": "N5VKQoN6Ea2e",
        "outputId": "c42b5c1d-bc23-4c34-f8bf-1d42f1959a15"
      },
      "execution_count": null,
      "outputs": [
        {
          "output_type": "stream",
          "name": "stdout",
          "text": [
            "[1, 2, 3, 4, 5]\n"
          ]
        }
      ]
    },
    {
      "cell_type": "code",
      "source": [
        "i=0\n",
        "while i<=n:\n",
        "  while (i%k-1)==0:\n",
        "    arr.pop(i)\n",
        "    i+=1\n",
        "  if len(arr)==1:\n",
        "    break\n",
        "  if i==n-1:\n",
        "    if i%k==0:\n",
        "      arr.pop(i)\n",
        "    i=0\n",
        "print(arr[0])"
      ],
      "metadata": {
        "colab": {
          "base_uri": "https://localhost:8080/",
          "height": 211
        },
        "id": "QWxNzUf1IFKU",
        "outputId": "a93884a7-cedb-4718-ea0f-538b69e7def9"
      },
      "execution_count": null,
      "outputs": [
        {
          "output_type": "error",
          "ename": "KeyboardInterrupt",
          "evalue": "",
          "traceback": [
            "\u001b[0;31m---------------------------------------------------------------------------\u001b[0m",
            "\u001b[0;31mKeyboardInterrupt\u001b[0m                         Traceback (most recent call last)",
            "\u001b[0;32m<ipython-input-14-f32f9369655a>\u001b[0m in \u001b[0;36m<cell line: 2>\u001b[0;34m()\u001b[0m\n\u001b[1;32m      1\u001b[0m \u001b[0mi\u001b[0m\u001b[0;34m=\u001b[0m\u001b[0;36m0\u001b[0m\u001b[0;34m\u001b[0m\u001b[0;34m\u001b[0m\u001b[0m\n\u001b[1;32m      2\u001b[0m \u001b[0;32mwhile\u001b[0m \u001b[0mi\u001b[0m\u001b[0;34m<=\u001b[0m\u001b[0mn\u001b[0m\u001b[0;34m:\u001b[0m\u001b[0;34m\u001b[0m\u001b[0;34m\u001b[0m\u001b[0m\n\u001b[0;32m----> 3\u001b[0;31m   \u001b[0;32mwhile\u001b[0m \u001b[0;34m(\u001b[0m\u001b[0mi\u001b[0m\u001b[0;34m%\u001b[0m\u001b[0mk\u001b[0m\u001b[0;34m-\u001b[0m\u001b[0;36m1\u001b[0m\u001b[0;34m)\u001b[0m\u001b[0;34m==\u001b[0m\u001b[0;36m0\u001b[0m\u001b[0;34m:\u001b[0m\u001b[0;34m\u001b[0m\u001b[0;34m\u001b[0m\u001b[0m\n\u001b[0m\u001b[1;32m      4\u001b[0m     \u001b[0marr\u001b[0m\u001b[0;34m.\u001b[0m\u001b[0mpop\u001b[0m\u001b[0;34m(\u001b[0m\u001b[0mi\u001b[0m\u001b[0;34m)\u001b[0m\u001b[0;34m\u001b[0m\u001b[0;34m\u001b[0m\u001b[0m\n\u001b[1;32m      5\u001b[0m     \u001b[0mi\u001b[0m\u001b[0;34m+=\u001b[0m\u001b[0;36m1\u001b[0m\u001b[0;34m\u001b[0m\u001b[0;34m\u001b[0m\u001b[0m\n",
            "\u001b[0;31mKeyboardInterrupt\u001b[0m: "
          ]
        }
      ]
    },
    {
      "cell_type": "code",
      "source": [],
      "metadata": {
        "id": "y2smhf0EIsJ3"
      },
      "execution_count": null,
      "outputs": []
    }
  ]
}