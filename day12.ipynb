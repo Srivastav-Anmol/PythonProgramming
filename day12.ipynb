{
  "nbformat": 4,
  "nbformat_minor": 0,
  "metadata": {
    "colab": {
      "provenance": []
    },
    "kernelspec": {
      "name": "python3",
      "display_name": "Python 3"
    },
    "language_info": {
      "name": "python"
    }
  },
  "cells": [
    {
      "cell_type": "code",
      "execution_count": null,
      "metadata": {
        "colab": {
          "base_uri": "https://localhost:8080/"
        },
        "id": "RWcarR6m3_Vg",
        "outputId": "3234a5f8-ef18-44c0-94c0-4178544f5f69"
      },
      "outputs": [
        {
          "output_type": "stream",
          "name": "stdout",
          "text": [
            "6\n"
          ]
        }
      ],
      "source": [
        "#kadane's algorithm\n",
        "nums=[-2,1,-3,4,-1,2,1,-5,4]\n",
        "c_max=0\n",
        "f_max=float('-inf')\n",
        "for i in range(len(nums)):\n",
        "  c_max=c_max+nums[i]\n",
        "  if c_max>f_max:\n",
        "    f_max=c_max\n",
        "  if c_max<0:\n",
        "    c_max=0\n",
        "print(f_max)"
      ]
    },
    {
      "cell_type": "code",
      "source": [
        "#longest increasing subsequence\n",
        "nums = [10,9,2,5,3,7,101,18]\n",
        "ans=[1]*len(nums)\n",
        "for i in range(1,len(nums)):\n",
        "  for j in range(i):\n",
        "    if nums[i]>nums[j]:\n",
        "      ans[i]=max(ans[i],1+ans[j])\n",
        "print(max(ans))\n"
      ],
      "metadata": {
        "colab": {
          "base_uri": "https://localhost:8080/"
        },
        "id": "UFEMCtnNMHvR",
        "outputId": "e186dc10-2116-4394-a417-79f94006cd49"
      },
      "execution_count": null,
      "outputs": [
        {
          "output_type": "stream",
          "name": "stdout",
          "text": [
            "4\n"
          ]
        }
      ]
    },
    {
      "cell_type": "code",
      "source": [
        "nums=[-4,-1,0,3,10]\n",
        "for i in range(len(nums)):\n",
        "  nums[i]=nums[i]*nums[i]\n",
        "print(nums)"
      ],
      "metadata": {
        "colab": {
          "base_uri": "https://localhost:8080/"
        },
        "id": "ytal7ahnRFxG",
        "outputId": "9c780c70-a4dc-4a4f-ed34-64f2a1b1b4c7"
      },
      "execution_count": null,
      "outputs": [
        {
          "output_type": "stream",
          "name": "stdout",
          "text": [
            "[16, 1, 0, 9, 100]\n"
          ]
        }
      ]
    },
    {
      "cell_type": "code",
      "source": [
        "#detecting loops in a linked list\n",
        "class node:\n",
        "  def __init__(self,data):\n",
        "    self.data=data\n",
        "    self.next=None\n",
        "class LinkedList:\n",
        "  def __init__(self):\n",
        "    self.head=None\n",
        "    self.tail=None\n",
        "  def insert(self,data):\n",
        "    new=node(data)\n",
        "    if self.head is None:\n",
        "      self.head=new\n",
        "      self.tail=new\n",
        "    else:\n",
        "      new.next=self.head\n",
        "      self.head=new\n",
        "\n",
        "  def print(self):\n",
        "    curr=self.head\n",
        "    while curr.next is not None:\n",
        "      print(curr.data,end='-')\n",
        "      curr=curr.next\n",
        "    print(curr.data)\n",
        "\n",
        "  def connect(self):\n",
        "    self.tail.next=self.head.next\n",
        "\n",
        "  def check1(self):\n",
        "    i=self.head\n",
        "    j=self.head\n",
        "    while j is not None and j.next is not None:\n",
        "      i=i.next\n",
        "      j=j.next.next\n",
        "      if i==j:\n",
        "        return True\n",
        "    return False\n",
        "\n",
        "l=LinkedList()\n",
        "l.insert(1)\n",
        "l.insert(2)\n",
        "l.insert(3)\n",
        "l.insert(4)\n",
        "l.insert(5)\n",
        "l.print()\n",
        "l.connect()\n",
        "print(l.check1())\n",
        "\n",
        "\n"
      ],
      "metadata": {
        "colab": {
          "base_uri": "https://localhost:8080/"
        },
        "id": "NWsfa6nJ_hpK",
        "outputId": "89b90167-fcb7-4de2-f9f3-ac27b87d5cbe"
      },
      "execution_count": null,
      "outputs": [
        {
          "output_type": "stream",
          "name": "stdout",
          "text": [
            "5-4-3-2-1\n",
            "True\n"
          ]
        }
      ]
    },
    {
      "cell_type": "code",
      "source": [
        "#container with most Water\n",
        "nums=[1,8,6,2,5,4,8,3,7]\n",
        "ans=0\n",
        "left=0\n",
        "right=len(nums)-1\n",
        "while left<right:\n",
        "  width=right-left\n",
        "  height=min(nums[left],nums[right])\n",
        "  area=width*height\n",
        "  ans=max(ans,area)\n",
        "  if nums[left]<nums[right]:\n",
        "    left+=1\n",
        "  else:\n",
        "    right-=1\n",
        "print(ans)"
      ],
      "metadata": {
        "colab": {
          "base_uri": "https://localhost:8080/"
        },
        "id": "M4THIt0XH_ed",
        "outputId": "81df861b-6ac6-465d-d56b-9b634ce13097"
      },
      "execution_count": null,
      "outputs": [
        {
          "output_type": "stream",
          "name": "stdout",
          "text": [
            "49\n"
          ]
        }
      ]
    },
    {
      "cell_type": "code",
      "source": [
        "#move zeros\n",
        "nums=[0,1,0,3,12]\n",
        "i=0\n",
        "j=0\n",
        "while j<len(nums):\n",
        "  if nums[j]!=0:\n",
        "    nums[i],nums[j]=nums[j],nums[i]\n",
        "    i+=1\n",
        "  else:\n",
        "    j+=1\n",
        "print(nums)\n"
      ],
      "metadata": {
        "colab": {
          "base_uri": "https://localhost:8080/"
        },
        "id": "E0tUvvSiB6Qd",
        "outputId": "7fa5d4eb-6f17-48e1-b7a3-69e118355112"
      },
      "execution_count": null,
      "outputs": [
        {
          "output_type": "stream",
          "name": "stdout",
          "text": [
            "[1, 3, 12, 0, 0]\n"
          ]
        }
      ]
    },
    {
      "cell_type": "code",
      "source": [
        "#Assign cookies\n",
        "g = [10,9,8,7]\n",
        "s = [5,6,7,8]\n",
        "g.sort()\n",
        "s.sort()\n",
        "i=0\n",
        "j=0\n",
        "ans=0\n",
        "while i<len(g) and j<len(s):\n",
        "  if g[i]<=s[j]:\n",
        "    ans+=1\n",
        "    print(g[i],s[j])\n",
        "    i+=1\n",
        "    j+=1\n",
        "  else:\n",
        "    j+=1\n",
        "print(ans)"
      ],
      "metadata": {
        "colab": {
          "base_uri": "https://localhost:8080/"
        },
        "id": "wCnLIgJiKkhk",
        "outputId": "895c7035-765b-43c8-f153-14303bdec94a"
      },
      "execution_count": null,
      "outputs": [
        {
          "output_type": "stream",
          "name": "stdout",
          "text": [
            "7 7\n",
            "8 8\n",
            "2\n"
          ]
        }
      ]
    },
    {
      "cell_type": "code",
      "source": [
        "#convert number into hour, minutes and seconds\n",
        "s=int(input())\n",
        "h=s//3600\n",
        "s=s%3600\n",
        "m=s//60\n",
        "s=s%60\n",
        "print('%d:%d:%d'%(h,m,s))\n"
      ],
      "metadata": {
        "colab": {
          "base_uri": "https://localhost:8080/"
        },
        "id": "SIG1znr-Mr3K",
        "outputId": "b4f42f8e-530a-46cf-fd44-8727d891b746"
      },
      "execution_count": null,
      "outputs": [
        {
          "output_type": "stream",
          "name": "stdout",
          "text": [
            "46979\n",
            "13:2:59\n"
          ]
        }
      ]
    },
    {
      "cell_type": "code",
      "source": [
        "#Non negative product of array\n",
        "t = int(input())\n",
        "for i in range(t):\n",
        "    n = int(input())\n",
        "    a = list(map(int, input().split()))\n",
        "    neg = 0\n",
        "    zero = False\n",
        "    for num in a:\n",
        "        if num < 0:\n",
        "            neg += 1\n",
        "        elif num == 0:\n",
        "            zero = True\n",
        "    if zero==True:\n",
        "        print(0)\n",
        "    else:\n",
        "        if neg % 2 == 0:\n",
        "            print(0)\n",
        "        else:\n",
        "            print(1)\n"
      ],
      "metadata": {
        "colab": {
          "base_uri": "https://localhost:8080/"
        },
        "id": "2ZBjhycAYflT",
        "outputId": "20deb091-12d9-418c-bab3-1ee802e9c129"
      },
      "execution_count": null,
      "outputs": [
        {
          "output_type": "stream",
          "name": "stdout",
          "text": [
            "1\n",
            "4\n",
            "2 -1 8 7\n",
            "1\n"
          ]
        }
      ]
    },
    {
      "cell_type": "code",
      "source": [
        "#107% rule\n",
        "t=int(input())\n",
        "for i in range(t):\n",
        "  x,y=map(int,input().strip().split())\n",
        "  rule=1.07*x\n",
        "  if y<=rule:\n",
        "    print('YES')\n",
        "  else:\n",
        "    print('NO')"
      ],
      "metadata": {
        "colab": {
          "base_uri": "https://localhost:8080/"
        },
        "id": "7apbhqBbbke5",
        "outputId": "e881c509-ca38-408f-ec84-ede4a119bb94"
      },
      "execution_count": null,
      "outputs": [
        {
          "output_type": "stream",
          "name": "stdout",
          "text": [
            "1\n",
            "1 2\n",
            "NO\n"
          ]
        }
      ]
    },
    {
      "cell_type": "code",
      "source": [
        "#ordered pairs\n",
        "s=input()\n",
        "mp={}\n",
        "for i in s:\n",
        "  if i not in mp:\n",
        "    mp[i]=1\n",
        "  else:\n",
        "    mp[i]+=1\n",
        "res=0\n",
        "for val in mp.values():\n",
        "  res+=val*val\n",
        "print(res)"
      ],
      "metadata": {
        "colab": {
          "base_uri": "https://localhost:8080/"
        },
        "id": "R652f8Ake97_",
        "outputId": "3fe856e2-d7fa-4876-8d3b-d1f085903612"
      },
      "execution_count": null,
      "outputs": [
        {
          "output_type": "stream",
          "name": "stdout",
          "text": [
            "aaaaaaaaaa\n",
            "100\n"
          ]
        }
      ]
    },
    {
      "cell_type": "code",
      "source": [
        "#annabela\n",
        "age=20\n",
        "t=int(input())\n",
        "for i in range(t):\n",
        "  n=int(input())\n",
        "  a=list(map(int,input().strip().split()))\n",
        "  i=0\n",
        "  j=len(a)-1\n",
        "  while i<=j:\n",
        "    if a[i]+a[j]==age*100:\n",
        "      print(\"ACCEPTED\")\n",
        "      break\n",
        "    elif a[i]+a[j]<age*100:\n",
        "      i+=1\n",
        "    else:\n",
        "      j-=1\n",
        "  else:\n",
        "    print(\"REJECTED\")\n"
      ],
      "metadata": {
        "colab": {
          "base_uri": "https://localhost:8080/"
        },
        "id": "dknaOp6XhNPm",
        "outputId": "806b679c-aee5-4d31-bd78-1d43cc619369"
      },
      "execution_count": null,
      "outputs": [
        {
          "output_type": "stream",
          "name": "stdout",
          "text": [
            "1\n",
            "5\n",
            "10 2 1000 50 1000\n",
            "ACCEPTED\n"
          ]
        }
      ]
    },
    {
      "cell_type": "code",
      "source": [
        " #Fractional Knapsack\n",
        "wt=[20,10,50,50]\n",
        "price=[100,60,200,100]\n",
        "w=90\n",
        "arr=list(zip(price,wt))\n",
        "arr.sort(key=lambda x: x[1])\n",
        "print(arr)\n",
        "total=0\n",
        "for i in range(len(arr)):\n",
        "  if arr[i][1]<=w:\n",
        "    total+=arr[i][0]\n",
        "    w-=arr[i][1]\n",
        "  else:\n",
        "    unit=(arr[i][0]/arr[i][1])*w\n",
        "    total+=unit\n",
        "print(total)\n",
        "\n"
      ],
      "metadata": {
        "id": "1tSkEdEziyM5",
        "colab": {
          "base_uri": "https://localhost:8080/"
        },
        "outputId": "7403af54-3ec2-4589-c8b3-e5842442a60b"
      },
      "execution_count": null,
      "outputs": [
        {
          "output_type": "stream",
          "name": "stdout",
          "text": [
            "[(60, 10), (100, 20), (200, 50), (100, 50)]\n",
            "380.0\n"
          ]
        }
      ]
    },
    {
      "cell_type": "code",
      "source": [
        "#Minimum no of coins\n",
        "arr=[1,2,5,10,20,50,100,500,1000]\n",
        "v=49\n",
        "total=0\n",
        "i=len(arr)-1\n",
        "while i>=0:\n",
        "  if arr[i]>v:\n",
        "    i-=1\n",
        "  else:\n",
        "    v-=arr[i]\n",
        "    total+=1\n",
        "print(total)"
      ],
      "metadata": {
        "colab": {
          "base_uri": "https://localhost:8080/"
        },
        "id": "bliNQWB3OaGl",
        "outputId": "9f408cee-71ec-44af-f450-cf92f278fa44"
      },
      "execution_count": null,
      "outputs": [
        {
          "output_type": "stream",
          "name": "stdout",
          "text": [
            "5\n"
          ]
        }
      ]
    },
    {
      "cell_type": "code",
      "source": [
        "#Range sum of Sorted subarray sums\n",
        "nums=[1,2,3,4]\n",
        "left=1\n",
        "right=5\n",
        "tmp=[]\n",
        "i=0\n",
        "j=0\n",
        "s=0\n",
        "while i<len(nums):\n",
        "  if j==len(nums):\n",
        "    i+=1\n",
        "    j=i\n",
        "    s=0\n",
        "  if i < len(nums):\n",
        "    s+=nums[j]\n",
        "    tmp.append(s)\n",
        "  j+=1\n",
        "tmp.sort()\n",
        "print(sum(tmp[left-1:right]))"
      ],
      "metadata": {
        "colab": {
          "base_uri": "https://localhost:8080/"
        },
        "id": "Zv-JSkfnVWQG",
        "outputId": "adb5aae2-44ec-43f8-c42a-993c0b73e7b7"
      },
      "execution_count": null,
      "outputs": [
        {
          "output_type": "stream",
          "name": "stdout",
          "text": [
            "13\n"
          ]
        }
      ]
    },
    {
      "cell_type": "code",
      "source": [
        "#N  Meetings in a Room\n",
        "start=[0,3,1,5,5,8]\n",
        "end=[5,4,2,9,7,9]\n",
        "pos=[i for i in range(1,len(start)+1)]\n",
        "arr=list(zip(start,end,pos))\n",
        "arr.sort(key=lambda x:x[1])\n",
        "print(arr)\n",
        "cnt=1\n",
        "tmp=[]\n",
        "tmp.append(arr[0][2])\n",
        "getfree=arr[0][1]\n",
        "for i in range(1,len(arr)):\n",
        "  if arr[i][0]>getfree:\n",
        "    cnt+=1\n",
        "\n",
        "    getfree=arr[i][1]\n",
        "    tmp.append(arr[i][2])\n",
        "print(cnt)\n",
        "print(tmp)\n",
        "\n"
      ],
      "metadata": {
        "colab": {
          "base_uri": "https://localhost:8080/"
        },
        "id": "FwxCumuiq87g",
        "outputId": "8248a227-00bd-47c2-c11c-41158778c229"
      },
      "execution_count": null,
      "outputs": [
        {
          "output_type": "stream",
          "name": "stdout",
          "text": [
            "[(1, 2, 3), (3, 4, 2), (0, 5, 1), (5, 7, 5), (5, 9, 4), (8, 9, 6)]\n",
            "4\n",
            "[3, 2, 5, 6]\n"
          ]
        }
      ]
    },
    {
      "cell_type": "code",
      "source": [
        "#Job sequencing\n",
        "id=[6,3,4,2,5,8,1,7]\n",
        "profit=[80,70,65,60,25,22,20,10]\n",
        "deadline=[2,6,6,5,4,2,4,2]\n",
        "arr=list(zip(id,profit,deadline))\n",
        "arr.sort(key=lambda x:x[1],reverse=True)\n",
        "print(arr)\n",
        "maxele=max(deadline)\n",
        "hash=[-1]*(maxele+1)\n",
        "cnt=0\n",
        "tot=0\n",
        "for i in range(len(arr)):\n",
        "  for j in range(arr[i][2],-1,-1):\n",
        "    if hash[j]==-1:\n",
        "      hash[j]=arr[i][0]\n",
        "      cnt+=1\n",
        "      tot+=arr[i][1]\n",
        "      break\n",
        "print(cnt)\n",
        "print(tot)"
      ],
      "metadata": {
        "colab": {
          "base_uri": "https://localhost:8080/"
        },
        "id": "xGq3OTuS3paA",
        "outputId": "82f126f8-4ecd-4c68-9468-5d97ef7ec70e"
      },
      "execution_count": null,
      "outputs": [
        {
          "output_type": "stream",
          "name": "stdout",
          "text": [
            "[(6, 80, 2), (3, 70, 6), (4, 65, 6), (2, 60, 5), (5, 25, 4), (8, 22, 2), (1, 20, 4), (7, 10, 2)]\n",
            "7\n",
            "342\n"
          ]
        }
      ]
    },
    {
      "cell_type": "code",
      "source": [
        "#nearest smallest number\n",
        "arr=[4, 5, 2, 10, 8]\n",
        "tmp=[-1]*len(arr)\n",
        "st=[]\n",
        "for i in range(len(arr)):\n",
        "  while st and st[-1]>=arr[i]:\n",
        "    st.pop()\n",
        "  if st:\n",
        "    tmp[i]=st[-1]\n",
        "  st.append(arr[i])\n",
        "print(tmp)"
      ],
      "metadata": {
        "id": "vbelsmQl0TK7",
        "colab": {
          "base_uri": "https://localhost:8080/"
        },
        "outputId": "74487954-d0de-40c0-865d-5110ac18d5e8"
      },
      "execution_count": null,
      "outputs": [
        {
          "output_type": "stream",
          "name": "stdout",
          "text": [
            "[-1, 4, -1, 2, 2]\n"
          ]
        }
      ]
    },
    {
      "cell_type": "code",
      "source": [
        "#sum of minimum subsets\n",
        "arr = [3,1,2,4]\n",
        "res=[[]]\n",
        "for i in arr:\n",
        "  for j in range(len(res)):\n",
        "    a=res[j]+[i]\n",
        "    res.append(a)\n",
        "print(res)\n",
        "tot=0\n",
        "for i in range(1,len(res)):\n",
        "  mini=min(res[i])\n",
        "  tot+=mini\n",
        "print(tot)"
      ],
      "metadata": {
        "id": "GH5HFCqSC7Rv",
        "colab": {
          "base_uri": "https://localhost:8080/"
        },
        "outputId": "f516dfd7-d145-4460-ef02-80daa71d6a3b"
      },
      "execution_count": null,
      "outputs": [
        {
          "output_type": "stream",
          "name": "stdout",
          "text": [
            "[[], [3], [1], [3, 1], [2], [3, 2], [1, 2], [3, 1, 2], [4], [3, 4], [1, 4], [3, 1, 4], [2, 4], [3, 2, 4], [1, 2, 4], [3, 1, 2, 4]]\n",
            "26\n"
          ]
        }
      ]
    },
    {
      "cell_type": "code",
      "source": [],
      "metadata": {
        "id": "RLWW1PPF-Al4"
      },
      "execution_count": null,
      "outputs": []
    }
  ]
}