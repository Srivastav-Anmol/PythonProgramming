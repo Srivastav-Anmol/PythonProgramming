{
  "nbformat": 4,
  "nbformat_minor": 0,
  "metadata": {
    "colab": {
      "provenance": []
    },
    "kernelspec": {
      "name": "python3",
      "display_name": "Python 3"
    },
    "language_info": {
      "name": "python"
    }
  },
  "cells": [
    {
      "cell_type": "code",
      "execution_count": null,
      "metadata": {
        "colab": {
          "base_uri": "https://localhost:8080/"
        },
        "id": "AnZrr9oq5xlh",
        "outputId": "45a7d24b-91f4-448d-e6e9-4d466522f232"
      },
      "outputs": [
        {
          "output_type": "stream",
          "name": "stdout",
          "text": [
            "100\n",
            "001\n"
          ]
        }
      ],
      "source": [
        "#reverse a number from 1-100\n",
        "m=int(input())\n",
        "ans=''\n",
        "while m>0:\n",
        "    dig=m%10\n",
        "    ans=ans+str(dig)\n",
        "    m=m//10\n",
        "print(ans)"
      ]
    },
    {
      "cell_type": "code",
      "source": [
        "#Repitition of words in DNA\n",
        "\n",
        "st = input()\n",
        "\n",
        "if not st:\n",
        "    print(0)\n",
        "else:\n",
        "    count = 1\n",
        "    maxi = 1\n",
        "    curr = st[0]\n",
        "\n",
        "    for char in st[1:]:\n",
        "        if char == curr:\n",
        "            count += 1\n",
        "        else:\n",
        "            maxi = max(maxi, count)\n",
        "            count = 1\n",
        "            curr = char\n",
        "\n",
        "    maxi = max(maxi, count)\n",
        "    print(maxi)\n"
      ],
      "metadata": {
        "colab": {
          "base_uri": "https://localhost:8080/"
        },
        "id": "w40h1KTV51h0",
        "outputId": "0c0fb8f8-d9f2-44c3-f163-00877ba04fa3"
      },
      "execution_count": null,
      "outputs": [
        {
          "output_type": "stream",
          "name": "stdout",
          "text": [
            "ATTCGGGA\n",
            "3\n"
          ]
        }
      ]
    },
    {
      "cell_type": "code",
      "source": [
        "arr = [1, 2, 3, 5, 6]\n",
        "for i in arr:\n",
        "    cnt = 0\n",
        "    if i <= 1:\n",
        "        print(i, 'is not prime')\n",
        "        continue\n",
        "    for j in range(2, i):\n",
        "        if i % j == 0:\n",
        "            print(i, 'is not prime')\n",
        "            cnt += 1\n",
        "            break\n",
        "    if cnt == 0:\n",
        "        print(i, 'is prime')\n"
      ],
      "metadata": {
        "colab": {
          "base_uri": "https://localhost:8080/"
        },
        "id": "_AZHVYEB-PG6",
        "outputId": "15d5f0db-612e-4282-f3b9-1089608c260b"
      },
      "execution_count": null,
      "outputs": [
        {
          "output_type": "stream",
          "name": "stdout",
          "text": [
            "1 is not prime\n",
            "2 is prime\n",
            "3 is prime\n",
            "5 is prime\n",
            "6 is not prime\n"
          ]
        }
      ]
    },
    {
      "cell_type": "code",
      "source": [
        "a=[1,2,3,4,5]\n",
        "i=0\n",
        "j=len(a)-1\n",
        "while i<j:\n",
        "    a[i],a[j]=a[j],a[i]\n",
        "    i+=1\n",
        "    j-=1\n",
        "print(a)"
      ],
      "metadata": {
        "colab": {
          "base_uri": "https://localhost:8080/"
        },
        "id": "aQPr3ctExug8",
        "outputId": "fde181a3-e25a-4196-eca1-542c89f0ffde"
      },
      "execution_count": null,
      "outputs": [
        {
          "output_type": "stream",
          "name": "stdout",
          "text": [
            "[5, 4, 3, 2, 1]\n"
          ]
        }
      ]
    },
    {
      "cell_type": "code",
      "source": [
        "mat=[[1,2,3],[4,5,6],[7,8,9]] #primary diagonal\n",
        "s=0\n",
        "n=len(mat)\n",
        "m=len(mat[0])\n",
        "i=0\n",
        "j=0\n",
        "while i<n and j<m:\n",
        "  s+=mat[i][j]\n",
        "  i+=1\n",
        "  j+=1\n",
        "print(s)\n",
        "\n"
      ],
      "metadata": {
        "colab": {
          "base_uri": "https://localhost:8080/"
        },
        "id": "IqZn_t494kKX",
        "outputId": "8701bfdd-a9fe-4c2c-8187-7dbdbdf6abdd"
      },
      "execution_count": null,
      "outputs": [
        {
          "output_type": "stream",
          "name": "stdout",
          "text": [
            "15\n"
          ]
        }
      ]
    },
    {
      "cell_type": "code",
      "source": [
        "mat=[[1,2,3],[4,5,6],[7,8,9]] #secondary diagonal\n",
        "s=0\n",
        "n=len(mat)\n",
        "j=len(mat[0])-1\n",
        "i=0\n",
        "\n",
        "while i<n and j>=0:\n",
        "  s+=mat[i][j]\n",
        "  i+=1\n",
        "  j-=1\n",
        "print(s)\n",
        "\n"
      ],
      "metadata": {
        "colab": {
          "base_uri": "https://localhost:8080/"
        },
        "id": "HsRgc6E_5aJI",
        "outputId": "e66b73c7-88e7-488a-b315-1dea5bac4c62"
      },
      "execution_count": null,
      "outputs": [
        {
          "output_type": "stream",
          "name": "stdout",
          "text": [
            "15\n"
          ]
        }
      ]
    },
    {
      "cell_type": "code",
      "source": [
        "mat=[[1,2,3],[4,5,6],[7,8,9],[10,11,12]] #non-boundry elements\n",
        "n=len(mat)\n",
        "m=len(mat[0])\n",
        "for i in range(n):\n",
        "  for j in range(m):\n",
        "    if i==0 or j==0 or i==len(mat)-1 or j==len(mat[0])-1:\n",
        "      continue\n",
        "    else:\n",
        "      print(mat[i][j])\n"
      ],
      "metadata": {
        "colab": {
          "base_uri": "https://localhost:8080/"
        },
        "id": "XkFR6xdz659l",
        "outputId": "5c622a27-d9fa-4044-f787-b716657e9cb7"
      },
      "execution_count": null,
      "outputs": [
        {
          "output_type": "stream",
          "name": "stdout",
          "text": [
            "5\n",
            "8\n"
          ]
        }
      ]
    },
    {
      "cell_type": "code",
      "source": [
        "mat = [[1, 2, 3], [4, 5, 6], [7, 8, 9]] #transpose of a matrix\n",
        "n = len(mat)\n",
        "m = len(mat[0])\n",
        "i = 0\n",
        "j = 0\n",
        "while i<n:\n",
        "  j=i+1\n",
        "  while j<m:\n",
        "        mat[i][j],mat[j][i]=mat[j][i],mat[i][j]\n",
        "        j+=1\n",
        "  i+=1\n",
        "print(mat)\n"
      ],
      "metadata": {
        "colab": {
          "base_uri": "https://localhost:8080/"
        },
        "id": "pUSfRWPZ9L1_",
        "outputId": "1c73ff23-ba6f-4e81-9927-3aef1879b450"
      },
      "execution_count": null,
      "outputs": [
        {
          "output_type": "stream",
          "name": "stdout",
          "text": [
            "[[1, 4, 7], [2, 5, 8], [3, 6, 9]]\n"
          ]
        }
      ]
    },
    {
      "cell_type": "code",
      "source": [],
      "metadata": {
        "id": "EbtdY8C__V7D"
      },
      "execution_count": null,
      "outputs": []
    }
  ]
}