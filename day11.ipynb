{
  "nbformat": 4,
  "nbformat_minor": 0,
  "metadata": {
    "colab": {
      "provenance": []
    },
    "kernelspec": {
      "name": "python3",
      "display_name": "Python 3"
    },
    "language_info": {
      "name": "python"
    }
  },
  "cells": [
    {
      "cell_type": "code",
      "execution_count": null,
      "metadata": {
        "colab": {
          "base_uri": "https://localhost:8080/"
        },
        "id": "NiizTPq9qu8C",
        "outputId": "8e8e6be9-710a-4b82-d995-b464ed9009b3"
      },
      "outputs": [
        {
          "output_type": "stream",
          "name": "stdout",
          "text": [
            "6\n",
            "19\n"
          ]
        }
      ],
      "source": [
        "def series(n,memo):\n",
        "  if n<=0:\n",
        "    return 0\n",
        "  if n==1:\n",
        "    return 1\n",
        "  elif n==2:\n",
        "    return 2\n",
        "  elif n==3:\n",
        "    return 3\n",
        "  elif n==4:\n",
        "    return 4\n",
        "  else:\n",
        "    memo[n]=series(n-1,memo)+series(n-2,memo)+series(n-3,memo)+series(n-4,memo)\n",
        "    return memo[n]\n",
        "n=int(input())\n",
        "memo={}\n",
        "print(series(n,memo))"
      ]
    },
    {
      "cell_type": "code",
      "source": [
        "#counting bits\n",
        "n=int(input())\n",
        "ans=[0]\n",
        "for i in range(1,n+1):\n",
        "  cnt=0\n",
        "  while i>0:\n",
        "    x=i&1\n",
        "    cnt+=x\n",
        "    i=i//2\n",
        "  ans.append(cnt)\n",
        "print(ans)"
      ],
      "metadata": {
        "id": "PzDX8tLDrHHd",
        "colab": {
          "base_uri": "https://localhost:8080/"
        },
        "outputId": "d479b16b-5cef-4600-d961-7e91d5ae9e2a"
      },
      "execution_count": null,
      "outputs": [
        {
          "output_type": "stream",
          "name": "stdout",
          "text": [
            "2\n",
            "[0, 1, 1]\n"
          ]
        }
      ]
    },
    {
      "cell_type": "code",
      "source": [
        "#counting bits using Dynamic programming\n",
        "n=int(input())\n",
        "dp=[0]\n",
        "for i in range(1,n+1):\n",
        "  if i%2==1:\n",
        "    dp.append(dp[i-1]+1)\n",
        "  else:\n",
        "    dp.append(dp[i//2])\n",
        "print(dp)"
      ],
      "metadata": {
        "colab": {
          "base_uri": "https://localhost:8080/"
        },
        "id": "HmMDxOoq-iKp",
        "outputId": "1e0c03d1-5a45-48d2-de02-14a92ae400f8"
      },
      "execution_count": null,
      "outputs": [
        {
          "output_type": "stream",
          "name": "stdout",
          "text": [
            "3\n",
            "[0, 1, 1, 2]\n"
          ]
        }
      ]
    },
    {
      "cell_type": "code",
      "source": [
        "#unique paths in a grid\n",
        "m=3\n",
        "n=7\n",
        "dp=[[1]*n for i in range(m)]\n",
        "for i in range(1,m):\n",
        "  for j in range(1,n):\n",
        "    dp[i][j]=dp[i-1][j]+dp[i][j-1]\n",
        "print(dp[-1][-1])"
      ],
      "metadata": {
        "colab": {
          "base_uri": "https://localhost:8080/"
        },
        "id": "vVuLAtCLkG5w",
        "outputId": "40fe29a3-a6b0-4087-bf51-765332e53297"
      },
      "execution_count": null,
      "outputs": [
        {
          "output_type": "stream",
          "name": "stdout",
          "text": [
            "28\n"
          ]
        }
      ]
    },
    {
      "cell_type": "code",
      "source": [
        "#Pascals triangle\n",
        "n=5\n",
        "res=[[1]]\n",
        "for i in range(n-1):\n",
        "  tmp=[0]+res[-1]+[0]\n",
        "  row=[]\n",
        "  for j in range(len(res[-1])+1):\n",
        "    row.append(tmp[j]+tmp[j+1])\n",
        "  res.append(row)\n",
        "print(res)"
      ],
      "metadata": {
        "colab": {
          "base_uri": "https://localhost:8080/"
        },
        "id": "MYSVfjmHkYUT",
        "outputId": "082e6567-70e1-4e29-ed84-95371f2830cc"
      },
      "execution_count": null,
      "outputs": [
        {
          "output_type": "stream",
          "name": "stdout",
          "text": [
            "[[1], [1, 1], [1, 2, 1], [1, 3, 3, 1], [1, 4, 6, 4, 1]]\n"
          ]
        }
      ]
    },
    {
      "cell_type": "code",
      "source": [
        "\n",
        "val=5\n",
        "res=[[1]]\n",
        "for i in range(val-1):\n",
        "  tmp=res[-1]\n",
        "  n=len(res[-1])\n",
        "  row=[]\n",
        "  for j in range(n+1):\n",
        "    if j==0 or j==n:\n",
        "      row.append(1)\n",
        "    else:\n",
        "      row.append(tmp[j]+tmp[j-1])\n",
        "  res.append(row)\n",
        "print(res)"
      ],
      "metadata": {
        "colab": {
          "base_uri": "https://localhost:8080/"
        },
        "id": "AexVfMgu1dh9",
        "outputId": "10ef3014-1ad0-42a5-816c-3dcf76c6b0c6"
      },
      "execution_count": null,
      "outputs": [
        {
          "output_type": "stream",
          "name": "stdout",
          "text": [
            "[[1], [1, 1], [1, 2, 1], [1, 3, 3, 1], [1, 4, 6, 4, 1]]\n"
          ]
        }
      ]
    },
    {
      "cell_type": "code",
      "source": [
        "#segment sum of array using Left and Right pair\n",
        "arr=[1,2,3,4,5,6,7,8,9]\n",
        "pair=[0,1,5,4,5]\n",
        "ans=0\n",
        "if len(pair)==1:\n",
        "    print(arr[0])\n",
        "else:\n",
        "    for i in range(len(pair)-1):\n",
        "        left=pair[i]\n",
        "        right=pair[i+1]\n",
        "        if left>right:\n",
        "            left,right=right,left\n",
        "        ans+=sum(arr[left:right+1])\n",
        "print(ans)"
      ],
      "metadata": {
        "id": "FnIRlPik1wkC",
        "colab": {
          "base_uri": "https://localhost:8080/"
        },
        "outputId": "042c87c0-ac19-43da-ef60-263fa077f232"
      },
      "execution_count": null,
      "outputs": [
        {
          "output_type": "stream",
          "name": "stdout",
          "text": [
            "45\n"
          ]
        }
      ]
    },
    {
      "cell_type": "code",
      "source": [
        "#using prefix sum\n",
        "arr = [1, 2, 3, 4, 5, 6, 7, 8, 9]\n",
        "pair = [0, 1, 5, 4, 5]\n",
        "n = len(arr)\n",
        "prefix = [0] * n\n",
        "prefix[0] = arr[0]\n",
        "for i in range(1, n):\n",
        "    prefix[i] = prefix[i - 1] + arr[i]\n",
        "ans = 0\n",
        "for i in range(len(pair) - 1):\n",
        "    left = pair[i]\n",
        "    right = pair[i + 1]\n",
        "    if left > right:\n",
        "        left, right = right, left\n",
        "    if left == 0:\n",
        "        seg = prefix[right]\n",
        "    else:\n",
        "        seg = prefix[right] - prefix[left - 1]\n",
        "    ans += seg\n",
        "print(ans)\n"
      ],
      "metadata": {
        "colab": {
          "base_uri": "https://localhost:8080/"
        },
        "id": "dleNIslj_Eqa",
        "outputId": "522afcb7-fb39-427a-d8ba-66c6d2099a62"
      },
      "execution_count": null,
      "outputs": [
        {
          "output_type": "stream",
          "name": "stdout",
          "text": [
            "45\n"
          ]
        }
      ]
    },
    {
      "cell_type": "code",
      "source": [],
      "metadata": {
        "id": "YwaLEst5A69Q"
      },
      "execution_count": null,
      "outputs": []
    }
  ]
}